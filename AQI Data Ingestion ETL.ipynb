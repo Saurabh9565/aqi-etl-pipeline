{
 "cells": [
  {
   "cell_type": "code",
   "execution_count": 0,
   "metadata": {
    "application/vnd.databricks.v1+cell": {
     "cellMetadata": {
      "byteLimit": 2048000,
      "rowLimit": 10000
     },
     "inputWidgets": {},
     "nuid": "a5c3e3f8-526e-4fc9-a16e-fc92ea4f66d6",
     "showTitle": false,
     "tableResultSettingsMap": {},
     "title": ""
    }
   },
   "outputs": [
    {
     "output_type": "display_data",
     "data": {
      "text/html": [
       "\n",
       "            <div>\n",
       "                <p><b>SparkSession - hive</b></p>\n",
       "                \n",
       "        <div>\n",
       "            <p><b>SparkContext</b></p>\n",
       "\n",
       "            <p><a href=\"/?o=1672736954433478#setting/sparkui/0510-113046-gp3v7vq8/driver-8295990272384859009\">Spark UI</a></p>\n",
       "\n",
       "            <dl>\n",
       "              <dt>Version</dt>\n",
       "                <dd><code>v3.3.2</code></dd>\n",
       "              <dt>Master</dt>\n",
       "                <dd><code>local[8]</code></dd>\n",
       "              <dt>AppName</dt>\n",
       "                <dd><code>Databricks Shell</code></dd>\n",
       "            </dl>\n",
       "        </div>\n",
       "        \n",
       "            </div>\n",
       "        "
      ]
     },
     "metadata": {
      "application/vnd.databricks.v1+output": {
       "addedWidgets": {},
       "arguments": {},
       "data": "\n            <div>\n                <p><b>SparkSession - hive</b></p>\n                \n        <div>\n            <p><b>SparkContext</b></p>\n\n            <p><a href=\"/?o=1672736954433478#setting/sparkui/0510-113046-gp3v7vq8/driver-8295990272384859009\">Spark UI</a></p>\n\n            <dl>\n              <dt>Version</dt>\n                <dd><code>v3.3.2</code></dd>\n              <dt>Master</dt>\n                <dd><code>local[8]</code></dd>\n              <dt>AppName</dt>\n                <dd><code>Databricks Shell</code></dd>\n            </dl>\n        </div>\n        \n            </div>\n        ",
       "datasetInfos": [],
       "metadata": {},
       "removedWidgets": [],
       "textData": null,
       "type": "htmlSandbox"
      }
     },
     "output_type": "display_data"
    }
   ],
   "source": [
    "spark"
   ]
  },
  {
   "cell_type": "code",
   "execution_count": 0,
   "metadata": {
    "application/vnd.databricks.v1+cell": {
     "cellMetadata": {
      "byteLimit": 2048000,
      "rowLimit": 10000
     },
     "inputWidgets": {},
     "nuid": "3fe8933d-9399-470b-82c2-1ae4e88d11fd",
     "showTitle": false,
     "tableResultSettingsMap": {},
     "title": ""
    }
   },
   "outputs": [],
   "source": [
    "import requests, json\n",
    "#requests: A powerful third-party Python library used to make HTTP requests (e.g., GET, POST)\n",
    "#json: Python’s built-in module to parse and work with JSON (a common format used by APIs)\n",
    "#Together, they allow you to fetch data from the web and convert it to Python objects like dictionaries or lists.\n",
    "\n",
    "API_KEY = \"579b464db66ec23bdd00000181e5dd27accd449c77d0182c77980d9e\"\n",
    "URL = \"https://api.data.gov.in/resource/3b01bcb8-0b14-4abf-b6f2-c1bfd384ba69\"\n",
    "\n",
    "params = {\n",
    "    \"api-key\" : API_KEY,\n",
    "    \"format\" : \"json\",\n",
    "    \"limit\" : 100,\n",
    "    \"offset\" : 0\n",
    "}"
   ]
  },
  {
   "cell_type": "code",
   "execution_count": 0,
   "metadata": {
    "application/vnd.databricks.v1+cell": {
     "cellMetadata": {
      "byteLimit": 2048000,
      "rowLimit": 10000
     },
     "inputWidgets": {},
     "nuid": "8aadf6a8-603a-4b34-9a3d-14a57195a5c5",
     "showTitle": false,
     "tableResultSettingsMap": {},
     "title": ""
    }
   },
   "outputs": [],
   "source": [
    "# if response.status_code == 200:                #success - status code 200\n",
    "#     data = response.json()                     # storing json data as dictionary\n",
    "\n",
    "#     records = data.get(\"records\", [])          # storing data in list format\n",
    "\n",
    "#     if records:\n",
    "#         df = spark.createDataFrame(records)\n",
    "#         df.write.mode(\"append\").format(\"delta\").save(\"/FileStore/tables/AQI_raw_delta\")  # append for saving all the data / overwrite\n",
    "#     else:\n",
    "#         print(\"No record found in API response\")\n",
    "# else:\n",
    "#     print(\"Error\", response.status_code)\n",
    "\n",
    "#alternate(more risky when exceptions occur) for below written code"
   ]
  },
  {
   "cell_type": "code",
   "execution_count": 0,
   "metadata": {
    "application/vnd.databricks.v1+cell": {
     "cellMetadata": {
      "byteLimit": 2048000,
      "rowLimit": 10000
     },
     "inputWidgets": {},
     "nuid": "748b8acd-4833-45ac-8eae-179883e13411",
     "showTitle": false,
     "tableResultSettingsMap": {},
     "title": ""
    }
   },
   "outputs": [
    {
     "output_type": "stream",
     "name": "stdout",
     "output_type": "stream",
     "text": [
      "Successfully added 100 records in Delta Lake\n"
     ]
    }
   ],
   "source": [
    "\n",
    "try:\n",
    "    response = requests.get(URL, params= params)\n",
    "    response.raise_for_status()  # raised an error for for 4xx/5xx responses\n",
    "\n",
    "    data = response.json()\n",
    "    records = data.get(\"records\", [])\n",
    "\n",
    "    if records:\n",
    "        try:\n",
    "            df = spark.createDataFrame(records)\n",
    "            df.write.mode(\"overwrite\").format(\"delta\").save(\"/FileStore/tables/AQI_raw_delta\")\n",
    "            print(f\"Successfully added {df.count()} records in Delta Lake\")\n",
    "        except Exception as e:\n",
    "            print(f\"Error writing to Delta Lake: {e}\")\n",
    "    else:\n",
    "        print(\"No record found in API\")\n",
    "\n",
    "except requests.exceptions.HTTPError as e:\n",
    "    print(f\"HTTP error: {e}\")  #handling 4xx and 5xx errors\n",
    "\n",
    "except requests.exceptions.ConnectionError as e:\n",
    "     print(\"Failed to connect to API. Check internet or API URL.\")  #Handles network issues\n",
    "\n",
    "except Exception as e:\n",
    "    print(f\"Unexpected error: {e}\")  #handles unknown errors"
   ]
  },
  {
   "cell_type": "code",
   "execution_count": 0,
   "metadata": {
    "application/vnd.databricks.v1+cell": {
     "cellMetadata": {
      "byteLimit": 2048000,
      "rowLimit": 10000
     },
     "inputWidgets": {},
     "nuid": "0364cab1-4179-45ea-93e7-332994b324e1",
     "showTitle": false,
     "tableResultSettingsMap": {},
     "title": ""
    }
   },
   "outputs": [],
   "source": [
    "dataF = spark.read.format(\"delta\").load(\"dbfs:/FileStore/tables/AQI_raw_delta\")"
   ]
  },
  {
   "cell_type": "code",
   "execution_count": 0,
   "metadata": {
    "application/vnd.databricks.v1+cell": {
     "cellMetadata": {
      "byteLimit": 2048000,
      "rowLimit": 10000
     },
     "inputWidgets": {},
     "nuid": "6041f444-eb6f-40cd-9e13-3a49a57da9e6",
     "showTitle": false,
     "tableResultSettingsMap": {},
     "title": ""
    }
   },
   "outputs": [
    {
     "output_type": "display_data",
     "data": {
      "text/html": [
       "<style scoped>\n",
       "  .table-result-container {\n",
       "    max-height: 300px;\n",
       "    overflow: auto;\n",
       "  }\n",
       "  table, th, td {\n",
       "    border: 1px solid black;\n",
       "    border-collapse: collapse;\n",
       "  }\n",
       "  th, td {\n",
       "    padding: 5px;\n",
       "  }\n",
       "  th {\n",
       "    text-align: left;\n",
       "  }\n",
       "</style><div class='table-result-container'><table class='table-result'><thead style='background-color: white'><tr><th>avg_value</th><th>city</th><th>country</th><th>last_update</th><th>latitude</th><th>longitude</th><th>max_value</th><th>min_value</th><th>pollutant_id</th><th>state</th><th>station</th></tr></thead><tbody><tr><td>64</td><td>Naharlagun</td><td>India</td><td>10-05-2025 16:00:00</td><td>27.103358</td><td>93.679645</td><td>134</td><td>32</td><td>PM2.5</td><td>Arunachal_Pradesh</td><td>Naharlagun, Naharlagun - APSPCB</td></tr><tr><td>11</td><td>Byrnihat</td><td>India</td><td>10-05-2025 16:00:00</td><td>26.071318</td><td>91.87488</td><td>21</td><td>5</td><td>NO2</td><td>Assam</td><td>Central Academy for SFS, Byrnihat - PCBA</td></tr><tr><td>40</td><td>Anantapur</td><td>India</td><td>10-05-2025 16:00:00</td><td>14.675886</td><td>77.593027</td><td>121</td><td>23</td><td>NO2</td><td>Andhra_Pradesh</td><td>Gulzarpet, Anantapur - APPCB</td></tr><tr><td>11</td><td>Anantapur</td><td>India</td><td>10-05-2025 16:00:00</td><td>14.675886</td><td>77.593027</td><td>43</td><td>5</td><td>NH3</td><td>Andhra_Pradesh</td><td>Gulzarpet, Anantapur - APPCB</td></tr><tr><td>10</td><td>Rajamahendravaram</td><td>India</td><td>10-05-2025 16:00:00</td><td>16.9872867</td><td>81.7363176</td><td>11</td><td>9</td><td>SO2</td><td>Andhra_Pradesh</td><td>Anand Kala Kshetram, Rajamahendravaram - APPCB</td></tr><tr><td>1</td><td>Tirumala</td><td>India</td><td>10-05-2025 16:00:00</td><td>13.67</td><td>79.35</td><td>2</td><td>1</td><td>NH3</td><td>Andhra_Pradesh</td><td>Toll Gate, Tirumala - APPCB (Formerly known as Tirumala, Tirupati - APPCB)</td></tr><tr><td>75</td><td>Amaravati</td><td>India</td><td>10-05-2025 16:00:00</td><td>16.5150833</td><td>80.5181667</td><td>88</td><td>60</td><td>PM10</td><td>Andhra_Pradesh</td><td>Secretariat, Amaravati - APPCB</td></tr><tr><td>54</td><td>Amaravati</td><td>India</td><td>10-05-2025 16:00:00</td><td>16.5150833</td><td>80.5181667</td><td>73</td><td>17</td><td>OZONE</td><td>Andhra_Pradesh</td><td>Secretariat, Amaravati - APPCB</td></tr><tr><td>74</td><td>Anantapur</td><td>India</td><td>10-05-2025 16:00:00</td><td>14.675886</td><td>77.593027</td><td>92</td><td>59</td><td>PM2.5</td><td>Andhra_Pradesh</td><td>Gulzarpet, Anantapur - APPCB</td></tr><tr><td>61</td><td>Delhi</td><td>India</td><td>10-05-2025 16:00:00</td><td>28.498571</td><td>77.264840</td><td>88</td><td>26</td><td>CO</td><td>Delhi</td><td>Dr. Karni Singh Shooting Range, Delhi - DPCC</td></tr><tr><td>101</td><td>Delhi</td><td>India</td><td>10-05-2025 16:00:00</td><td>28.5710274</td><td>77.0719006</td><td>153</td><td>10</td><td>OZONE</td><td>Delhi</td><td>Dwarka-Sector 8, Delhi - DPCC </td></tr><tr><td>146</td><td>Delhi</td><td>India</td><td>10-05-2025 16:00:00</td><td>28.5627763</td><td>77.1180053</td><td>319</td><td>7</td><td>PM2.5</td><td>Delhi</td><td>IGI Airport (T3), Delhi - IMD</td></tr><tr><td>1</td><td>Siwan</td><td>India</td><td>10-05-2025 16:00:00</td><td>26.2271665</td><td>84.3570427</td><td>3</td><td>1</td><td>NH3</td><td>Bihar</td><td>Chitragupta Nagar, Siwan - BSPCB</td></tr><tr><td>23</td><td>Chandigarh</td><td>India</td><td>10-05-2025 16:00:00</td><td>30.735567</td><td>76.775714</td><td>46</td><td>10</td><td>NO2</td><td>Chandigarh</td><td>Sector 22, Chandigarh - CPCC</td></tr><tr><td>57</td><td>Chandigarh</td><td>India</td><td>10-05-2025 16:00:00</td><td>30.751462</td><td>76.762879</td><td>78</td><td>38</td><td>PM10</td><td>Chandigarh</td><td>Sector-25, Chandigarh - CPCC</td></tr><tr><td>29</td><td>Chandigarh</td><td>India</td><td>10-05-2025 16:00:00</td><td>30.751462</td><td>76.762879</td><td>54</td><td>17</td><td>NO2</td><td>Chandigarh</td><td>Sector-25, Chandigarh - CPCC</td></tr><tr><td>9</td><td>Muzaffarpur</td><td>India</td><td>10-05-2025 16:00:00</td><td>26.1209</td><td>85.3647</td><td>13</td><td>6</td><td>NO2</td><td>Bihar</td><td>Muzaffarpur Collectorate, Muzaffarpur - BSPCB</td></tr><tr><td>31</td><td>Patna</td><td>India</td><td>10-05-2025 16:00:00</td><td>25.586562</td><td>85.043586</td><td>34</td><td>28</td><td>NO2</td><td>Bihar</td><td>DRM Office Danapur, Patna - BSPCB</td></tr><tr><td>3</td><td>Patna</td><td>India</td><td>10-05-2025 16:00:00</td><td>25.586562</td><td>85.043586</td><td>3</td><td>2</td><td>NH3</td><td>Bihar</td><td>DRM Office Danapur, Patna - BSPCB</td></tr><tr><td>8</td><td>Patna</td><td>India</td><td>10-05-2025 16:00:00</td><td>25.586562</td><td>85.043586</td><td>11</td><td>6</td><td>SO2</td><td>Bihar</td><td>DRM Office Danapur, Patna - BSPCB</td></tr><tr><td>38</td><td>Patna</td><td>India</td><td>10-05-2025 16:00:00</td><td>25.586562</td><td>85.043586</td><td>116</td><td>20</td><td>CO</td><td>Bihar</td><td>DRM Office Danapur, Patna - BSPCB</td></tr><tr><td>8</td><td>Patna</td><td>India</td><td>10-05-2025 16:00:00</td><td>25.610369</td><td>85.132568</td><td>28</td><td>1</td><td>SO2</td><td>Bihar</td><td>IGSC Planetarium Complex, Patna - BSPCB</td></tr><tr><td>33</td><td>Delhi</td><td>India</td><td>10-05-2025 16:00:00</td><td>28.776200</td><td>77.051074</td><td>68</td><td>11</td><td>NO2</td><td>Delhi</td><td>Bawana, Delhi - DPCC</td></tr><tr><td>186</td><td>Delhi</td><td>India</td><td>10-05-2025 16:00:00</td><td>28.7256504</td><td>77.2011573</td><td>335</td><td>50</td><td>PM2.5</td><td>Delhi</td><td>Burari Crossing, Delhi - IMD</td></tr><tr><td>74</td><td>Delhi</td><td>India</td><td>10-05-2025 16:00:00</td><td>28.5512005</td><td>77.2735737</td><td>221</td><td>10</td><td>NO2</td><td>Delhi</td><td>CRRI Mathura Road, Delhi - IMD</td></tr><tr><td>84</td><td>Delhi</td><td>India</td><td>10-05-2025 16:00:00</td><td>28.656756</td><td>77.227234</td><td>108</td><td>73</td><td>CO</td><td>Delhi</td><td>Chandni Chowk, Delhi - IITM</td></tr><tr><td>31</td><td>Bilaspur</td><td>India</td><td>10-05-2025 16:00:00</td><td>22.08815</td><td>82.13737</td><td>40</td><td>26</td><td>CO</td><td>Chhattisgarh</td><td>Mangala, Bilaspur - NTPC</td></tr><tr><td>NA</td><td>Korba</td><td>India</td><td>10-05-2025 16:00:00</td><td>22.368195</td><td>82.746431</td><td>NA</td><td>NA</td><td>NH3</td><td>Chhattisgarh</td><td>Rampur, Korba - CECB</td></tr><tr><td>8</td><td>Kishanganj</td><td>India</td><td>10-05-2025 16:00:00</td><td>26.0881305</td><td>87.93840336</td><td>11</td><td>5</td><td>SO2</td><td>Bihar</td><td>SDM Office_Khagra, Kishanganj - BSPCB</td></tr><tr><td>NA</td><td>Bihar Sharif</td><td>India</td><td>10-05-2025 16:00:00</td><td>25.204762</td><td>85.514960</td><td>NA</td><td>NA</td><td>NO2</td><td>Bihar</td><td>D M Colony, Bihar Sharif - BSPCB</td></tr><tr><td>55</td><td>Chhapra</td><td>India</td><td>10-05-2025 16:00:00</td><td>25.7808257</td><td>84.7446768</td><td>77</td><td>35</td><td>PM10</td><td>Bihar</td><td>Darshan Nagar, Chhapra - BSPCB</td></tr><tr><td>114</td><td>Chhapra</td><td>India</td><td>10-05-2025 16:00:00</td><td>25.7808257</td><td>84.7446768</td><td>117</td><td>110</td><td>NO2</td><td>Bihar</td><td>Darshan Nagar, Chhapra - BSPCB</td></tr><tr><td>7</td><td>Gaya</td><td>India</td><td>10-05-2025 16:00:00</td><td>24.7955</td><td>84.9994</td><td>14</td><td>4</td><td>NO2</td><td>Bihar</td><td>Collectorate, Gaya - BSPCB</td></tr><tr><td>73</td><td>Gaya</td><td>India</td><td>10-05-2025 16:00:00</td><td>24.792403</td><td>84.992416</td><td>103</td><td>48</td><td>PM2.5</td><td>Bihar</td><td>Kareemganj, Gaya - BSPCB</td></tr><tr><td>119</td><td>Gaya</td><td>India</td><td>10-05-2025 16:00:00</td><td>24.792403</td><td>84.992416</td><td>189</td><td>77</td><td>PM10</td><td>Bihar</td><td>Kareemganj, Gaya - BSPCB</td></tr><tr><td>89</td><td>Aurangabad</td><td>India</td><td>10-05-2025 16:00:00</td><td>24.75746</td><td>84.366208</td><td>200</td><td>27</td><td>PM2.5</td><td>Bihar</td><td>Gurdeo Nagar, Aurangabad - BSPCB</td></tr><tr><td>46</td><td>Begusarai</td><td>India</td><td>10-05-2025 16:00:00</td><td>25.42742023</td><td>86.13886079</td><td>58</td><td>17</td><td>SO2</td><td>Bihar</td><td>Lohiyanagar, Begusarai - BSPCB</td></tr><tr><td>8</td><td>Begusarai</td><td>India</td><td>10-05-2025 16:00:00</td><td>25.42742023</td><td>86.13886079</td><td>9</td><td>1</td><td>OZONE</td><td>Bihar</td><td>Lohiyanagar, Begusarai - BSPCB</td></tr><tr><td>84</td><td>Bettiah</td><td>India</td><td>10-05-2025 16:00:00</td><td>26.80365</td><td>84.51954</td><td>105</td><td>27</td><td>CO</td><td>Bihar</td><td>Kamalnath Nagar, Bettiah - BSPCB</td></tr><tr><td>6</td><td>Bhagalpur</td><td>India</td><td>10-05-2025 16:00:00</td><td>25.265194</td><td>87.012947</td><td>6</td><td>6</td><td>NH3</td><td>Bihar</td><td>Mayaganj, Bhagalpur - BSPCB</td></tr><tr><td>62</td><td>Tirupati</td><td>India</td><td>10-05-2025 16:00:00</td><td>13.615387</td><td>79.409230</td><td>109</td><td>43</td><td>PM10</td><td>Andhra_Pradesh</td><td>Vaikuntapuram, Tirupati - APPCB</td></tr><tr><td>58</td><td>Vijayawada</td><td>India</td><td>10-05-2025 16:00:00</td><td>16.536107</td><td>80.594233</td><td>63</td><td>52</td><td>PM10</td><td>Andhra_Pradesh</td><td>HB Colony, Vijayawada - APPCB</td></tr><tr><td>13</td><td>Vijayawada</td><td>India</td><td>10-05-2025 16:00:00</td><td>16.486692</td><td>80.699436</td><td>17</td><td>11</td><td>SO2</td><td>Andhra_Pradesh</td><td>Kanuru, Vijayawada - APPCB</td></tr><tr><td>41</td><td>Vijayawada</td><td>India</td><td>10-05-2025 16:00:00</td><td>16.509717</td><td>80.612222</td><td>49</td><td>31</td><td>NO2</td><td>Andhra_Pradesh</td><td>Rajiv Gandhi Park, Vijayawada - APPCB</td></tr><tr><td>82</td><td>Vijayawada</td><td>India</td><td>10-05-2025 16:00:00</td><td>16.554731</td><td>80.649110</td><td>151</td><td>43</td><td>PM2.5</td><td>Andhra_Pradesh</td><td>Rajiv Nagar, Vijayawada - APPCB</td></tr><tr><td>103</td><td>Guwahati</td><td>India</td><td>10-05-2025 16:00:00</td><td>26.10887</td><td>91.589544</td><td>381</td><td>39</td><td>PM10</td><td>Assam</td><td>LGBI Airport, Guwahati - PCBA</td></tr><tr><td>92</td><td>Guwahati</td><td>India</td><td>10-05-2025 16:00:00</td><td>26.181742</td><td>91.78063</td><td>125</td><td>69</td><td>PM10</td><td>Assam</td><td>Railway Colony, Guwahati - PCBA</td></tr><tr><td>47</td><td>Nagaon</td><td>India</td><td>10-05-2025 16:00:00</td><td>26.349082</td><td>92.68449</td><td>50</td><td>26</td><td>CO</td><td>Assam</td><td>Christianpatty, Nagaon - PCBA</td></tr><tr><td>3</td><td>Nalbari</td><td>India</td><td>10-05-2025 16:00:00</td><td>26.446912</td><td>91.439057</td><td>5</td><td>2</td><td>NO2</td><td>Assam</td><td>Bata Chowk, Nalbari - PCBA</td></tr><tr><td>27</td><td>Nalbari</td><td>India</td><td>10-05-2025 16:00:00</td><td>26.446912</td><td>91.439057</td><td>37</td><td>13</td><td>CO</td><td>Assam</td><td>Bata Chowk, Nalbari - PCBA</td></tr><tr><td>60</td><td>Visakhapatnam</td><td>India</td><td>10-05-2025 16:00:00</td><td>17.72</td><td>83.3</td><td>85</td><td>46</td><td>PM2.5</td><td>Andhra_Pradesh</td><td>GVM Corporation, Visakhapatnam - APPCB</td></tr><tr><td>6</td><td>Visakhapatnam</td><td>India</td><td>10-05-2025 16:00:00</td><td>17.72</td><td>83.3</td><td>27</td><td>3</td><td>NH3</td><td>Andhra_Pradesh</td><td>GVM Corporation, Visakhapatnam - APPCB</td></tr><tr><td>179</td><td>Delhi</td><td>India</td><td>10-05-2025 16:00:00</td><td>28.6811736</td><td>77.3025234</td><td>369</td><td>60</td><td>PM2.5</td><td>Delhi</td><td>IHBAS, Dilshad Garden, Delhi - CPCB</td></tr><tr><td>4</td><td>Delhi</td><td>India</td><td>10-05-2025 16:00:00</td><td>28.6811736</td><td>77.3025234</td><td>5</td><td>1</td><td>NH3</td><td>Delhi</td><td>IHBAS, Dilshad Garden, Delhi - CPCB</td></tr><tr><td>152</td><td>Delhi</td><td>India</td><td>10-05-2025 16:00:00</td><td>28.628624</td><td>77.241060</td><td>345</td><td>53</td><td>PM2.5</td><td>Delhi</td><td>ITO, Delhi - CPCB</td></tr><tr><td>3</td><td>Patna</td><td>India</td><td>10-05-2025 16:00:00</td><td>25.599486</td><td>85.113666</td><td>8</td><td>1</td><td>NH3</td><td>Bihar</td><td>Rajbansi Nagar, Patna - BSPCB</td></tr><tr><td>8</td><td>Patna</td><td>India</td><td>10-05-2025 16:00:00</td><td>25.599486</td><td>85.113666</td><td>9</td><td>3</td><td>SO2</td><td>Bihar</td><td>Rajbansi Nagar, Patna - BSPCB</td></tr><tr><td>3</td><td>Patna</td><td>India</td><td>10-05-2025 16:00:00</td><td>25.596727</td><td>85.085624</td><td>5</td><td>2</td><td>SO2</td><td>Bihar</td><td>Samanpura, Patna - BSPCB</td></tr><tr><td>NA</td><td>Rajgir</td><td>India</td><td>10-05-2025 16:00:00</td><td>25.03280</td><td>85.41948</td><td>NA</td><td>NA</td><td>PM10</td><td>Bihar</td><td>Dangi Tola, Rajgir - BSPCB</td></tr><tr><td>26</td><td>Rajgir</td><td>India</td><td>10-05-2025 16:00:00</td><td>25.03280</td><td>85.41948</td><td>27</td><td>26</td><td>CO</td><td>Bihar</td><td>Dangi Tola, Rajgir - BSPCB</td></tr><tr><td>34</td><td>Rajgir</td><td>India</td><td>10-05-2025 16:00:00</td><td>25.03280</td><td>85.41948</td><td>38</td><td>29</td><td>OZONE</td><td>Bihar</td><td>Dangi Tola, Rajgir - BSPCB</td></tr><tr><td>49</td><td>Saharsa</td><td>India</td><td>10-05-2025 16:00:00</td><td>25.892357</td><td>86.590325</td><td>103</td><td>12</td><td>PM2.5</td><td>Bihar</td><td>Police Line, Saharsa - BSPCB</td></tr><tr><td>NA</td><td>Milupara</td><td>India</td><td>10-05-2025 16:00:00</td><td>22.1910172</td><td>83.5197009</td><td>NA</td><td>NA</td><td>CO</td><td>Chhattisgarh</td><td>Govt. Higher Secondary School, Milupara - CECB</td></tr><tr><td>35</td><td>Raipur</td><td>India</td><td>10-05-2025 16:00:00</td><td>21.258815</td><td>81.578979</td><td>55</td><td>22</td><td>NO2</td><td>Chhattisgarh</td><td>AIIMS, Raipur - CECB</td></tr><tr><td>45</td><td>Sivasagar</td><td>India</td><td>10-05-2025 16:00:00</td><td>26.987634</td><td>94.636574</td><td>75</td><td>27</td><td>PM2.5</td><td>Assam</td><td>Girls College, Sivasagar - PCBA</td></tr><tr><td>NA</td><td>Araria</td><td>India</td><td>10-05-2025 16:00:00</td><td>26.146529</td><td>87.454184</td><td>NA</td><td>NA</td><td>NO2</td><td>Bihar</td><td>Kharahiya Basti, Araria - BSPCB</td></tr><tr><td>49</td><td>Araria</td><td>India</td><td>10-05-2025 16:00:00</td><td>26.146529</td><td>87.454184</td><td>58</td><td>29</td><td>CO</td><td>Bihar</td><td>Kharahiya Basti, Araria - BSPCB</td></tr><tr><td>7</td><td>Arrah</td><td>India</td><td>10-05-2025 16:00:00</td><td>25.5626095</td><td>84.663264</td><td>9</td><td>4</td><td>NO2</td><td>Bihar</td><td>New DM Office, Arrah - BSPCB</td></tr><tr><td>1</td><td>Arrah</td><td>India</td><td>10-05-2025 16:00:00</td><td>25.5626095</td><td>84.663264</td><td>1</td><td>1</td><td>NH3</td><td>Bihar</td><td>New DM Office, Arrah - BSPCB</td></tr><tr><td>25</td><td>Arrah</td><td>India</td><td>10-05-2025 16:00:00</td><td>25.5626095</td><td>84.663264</td><td>38</td><td>9</td><td>CO</td><td>Bihar</td><td>New DM Office, Arrah - BSPCB</td></tr><tr><td>99</td><td>Hajipur</td><td>India</td><td>10-05-2025 16:00:00</td><td>25.697189</td><td>85.245900</td><td>114</td><td>72</td><td>PM10</td><td>Bihar</td><td>Industrial Area, Hajipur - BSPCB</td></tr><tr><td>28</td><td>Hajipur</td><td>India</td><td>10-05-2025 16:00:00</td><td>25.697189</td><td>85.245900</td><td>40</td><td>20</td><td>NO2</td><td>Bihar</td><td>Industrial Area, Hajipur - BSPCB</td></tr><tr><td>46</td><td>Katihar</td><td>India</td><td>10-05-2025 16:00:00</td><td>25.560083</td><td>87.553265</td><td>79</td><td>23</td><td>PM10</td><td>Bihar</td><td>Mirchaibari, Katihar - BSPCB</td></tr><tr><td>26</td><td>Katihar</td><td>India</td><td>10-05-2025 16:00:00</td><td>25.560083</td><td>87.553265</td><td>70</td><td>4</td><td>CO</td><td>Bihar</td><td>Mirchaibari, Katihar - BSPCB</td></tr><tr><td>61</td><td>Kishanganj</td><td>India</td><td>10-05-2025 16:00:00</td><td>26.0881305</td><td>87.93840336</td><td>82</td><td>41</td><td>PM10</td><td>Bihar</td><td>SDM Office_Khagra, Kishanganj - BSPCB</td></tr><tr><td>3</td><td>Kishanganj</td><td>India</td><td>10-05-2025 16:00:00</td><td>26.0881305</td><td>87.93840336</td><td>3</td><td>2</td><td>NH3</td><td>Bihar</td><td>SDM Office_Khagra, Kishanganj - BSPCB</td></tr><tr><td>7</td><td>Raipur</td><td>India</td><td>10-05-2025 16:00:00</td><td>21.258815</td><td>81.578979</td><td>7</td><td>7</td><td>NH3</td><td>Chhattisgarh</td><td>AIIMS, Raipur - CECB</td></tr><tr><td>9</td><td>Raipur</td><td>India</td><td>10-05-2025 16:00:00</td><td>21.258815</td><td>81.578979</td><td>16</td><td>7</td><td>SO2</td><td>Chhattisgarh</td><td>AIIMS, Raipur - CECB</td></tr><tr><td>27</td><td>Raipur</td><td>India</td><td>10-05-2025 16:00:00</td><td>21.258815</td><td>81.578979</td><td>28</td><td>20</td><td>CO</td><td>Chhattisgarh</td><td>AIIMS, Raipur - CECB</td></tr><tr><td>3</td><td>Raipur</td><td>India</td><td>10-05-2025 16:00:00</td><td>21.371751</td><td>81.664929</td><td>3</td><td>3</td><td>NH3</td><td>Chhattisgarh</td><td>Siltara Phase-II, Raipur - CECB</td></tr><tr><td>17</td><td>Raipur</td><td>India</td><td>10-05-2025 16:00:00</td><td>21.371751</td><td>81.664929</td><td>39</td><td>5</td><td>SO2</td><td>Chhattisgarh</td><td>Siltara Phase-II, Raipur - CECB</td></tr><tr><td>69</td><td>Tumidih</td><td>India</td><td>10-05-2025 16:00:00</td><td>22.06631475</td><td>83.33820077</td><td>98</td><td>3</td><td>OZONE</td><td>Chhattisgarh</td><td>OP Jindal Industrial Park, Tumidih - CECB</td></tr><tr><td>28</td><td>Delhi</td><td>India</td><td>10-05-2025 16:00:00</td><td>28.815329</td><td>77.153010</td><td>95</td><td>7</td><td>SO2</td><td>Delhi</td><td>Alipur, Delhi - DPCC</td></tr><tr><td>58</td><td>Delhi</td><td>India</td><td>10-05-2025 16:00:00</td><td>28.815329</td><td>77.153010</td><td>86</td><td>21</td><td>CO</td><td>Delhi</td><td>Alipur, Delhi - DPCC</td></tr><tr><td>187</td><td>Delhi</td><td>India</td><td>10-05-2025 16:00:00</td><td>28.695381</td><td>77.181665</td><td>358</td><td>38</td><td>PM2.5</td><td>Delhi</td><td>Ashok Vihar, Delhi - DPCC</td></tr><tr><td>60</td><td>Delhi</td><td>India</td><td>10-05-2025 16:00:00</td><td>28.695381</td><td>77.181665</td><td>122</td><td>16</td><td>NO2</td><td>Delhi</td><td>Ashok Vihar, Delhi - DPCC</td></tr><tr><td>24</td><td>Delhi</td><td>India</td><td>10-05-2025 16:00:00</td><td>28.695381</td><td>77.181665</td><td>50</td><td>11</td><td>SO2</td><td>Delhi</td><td>Ashok Vihar, Delhi - DPCC</td></tr><tr><td>NA</td><td>Samastipur</td><td>India</td><td>10-05-2025 16:00:00</td><td>25.859655</td><td>85.77944</td><td>NA</td><td>NA</td><td>PM10</td><td>Bihar</td><td>DM Office_Kasipur, Samastipur - BSPCB</td></tr><tr><td>1</td><td>Manguraha</td><td>India</td><td>10-05-2025 16:00:00</td><td>27.308328</td><td>84.531742</td><td>1</td><td>1</td><td>NH3</td><td>Bihar</td><td>Forest Rest House, Manguraha - BSPCB</td></tr><tr><td>6</td><td>Manguraha</td><td>India</td><td>10-05-2025 16:00:00</td><td>27.308328</td><td>84.531742</td><td>7</td><td>5</td><td>SO2</td><td>Bihar</td><td>Forest Rest House, Manguraha - BSPCB</td></tr><tr><td>3</td><td>Motihari</td><td>India</td><td>10-05-2025 16:00:00</td><td>26.63086</td><td>84.90051</td><td>3</td><td>3</td><td>NH3</td><td>Bihar</td><td>Gandak Colony, Motihari - BSPCB</td></tr><tr><td>NA</td><td>Munger</td><td>India</td><td>10-05-2025 16:00:00</td><td>25.376776</td><td>86.471523</td><td>NA</td><td>NA</td><td>PM2.5</td><td>Bihar</td><td>Town Hall, Munger - BSPCB</td></tr><tr><td>24</td><td>Munger</td><td>India</td><td>10-05-2025 16:00:00</td><td>25.376776</td><td>86.471523</td><td>29</td><td>19</td><td>CO</td><td>Bihar</td><td>Town Hall, Munger - BSPCB</td></tr><tr><td>3</td><td>Muzaffarpur</td><td>India</td><td>10-05-2025 16:00:00</td><td>26.11442</td><td>85.39813</td><td>4</td><td>2</td><td>NH3</td><td>Bihar</td><td>Buddha Colony, Muzaffarpur - BSPCB</td></tr><tr><td>42</td><td>Muzaffarpur</td><td>India</td><td>10-05-2025 16:00:00</td><td>26.1403345</td><td>85.3650192</td><td>63</td><td>30</td><td>PM2.5</td><td>Bihar</td><td>MIT-Daudpur Kothi, Muzaffarpur - BSPCB</td></tr><tr><td>13</td><td>Muzaffarpur</td><td>India</td><td>10-05-2025 16:00:00</td><td>26.1403345</td><td>85.3650192</td><td>15</td><td>11</td><td>NO2</td><td>Bihar</td><td>MIT-Daudpur Kothi, Muzaffarpur - BSPCB</td></tr><tr><td>7</td><td>Muzaffarpur</td><td>India</td><td>10-05-2025 16:00:00</td><td>26.1403345</td><td>85.3650192</td><td>9</td><td>4</td><td>SO2</td><td>Bihar</td><td>MIT-Daudpur Kothi, Muzaffarpur - BSPCB</td></tr><tr><td>48</td><td>Silchar</td><td>India</td><td>10-05-2025 16:00:00</td><td>24.82827</td><td>92.79525</td><td>71</td><td>32</td><td>PM2.5</td><td>Assam</td><td>Tarapur, Silchar - PCBA</td></tr><tr><td>12</td><td>Silchar</td><td>India</td><td>10-05-2025 16:00:00</td><td>24.82827</td><td>92.79525</td><td>20</td><td>6</td><td>NO2</td><td>Assam</td><td>Tarapur, Silchar - PCBA</td></tr><tr><td>18</td><td>Silchar</td><td>India</td><td>10-05-2025 16:00:00</td><td>24.82827</td><td>92.79525</td><td>41</td><td>1</td><td>OZONE</td><td>Assam</td><td>Tarapur, Silchar - PCBA</td></tr></tbody></table></div>"
      ]
     },
     "metadata": {
      "application/vnd.databricks.v1+output": {
       "addedWidgets": {},
       "aggData": [],
       "aggError": "",
       "aggOverflow": false,
       "aggSchema": [],
       "aggSeriesLimitReached": false,
       "aggType": "",
       "arguments": {},
       "columnCustomDisplayInfos": {},
       "data": [
        [
         "64",
         "Naharlagun",
         "India",
         "10-05-2025 16:00:00",
         "27.103358",
         "93.679645",
         "134",
         "32",
         "PM2.5",
         "Arunachal_Pradesh",
         "Naharlagun, Naharlagun - APSPCB"
        ],
        [
         "11",
         "Byrnihat",
         "India",
         "10-05-2025 16:00:00",
         "26.071318",
         "91.87488",
         "21",
         "5",
         "NO2",
         "Assam",
         "Central Academy for SFS, Byrnihat - PCBA"
        ],
        [
         "40",
         "Anantapur",
         "India",
         "10-05-2025 16:00:00",
         "14.675886",
         "77.593027",
         "121",
         "23",
         "NO2",
         "Andhra_Pradesh",
         "Gulzarpet, Anantapur - APPCB"
        ],
        [
         "11",
         "Anantapur",
         "India",
         "10-05-2025 16:00:00",
         "14.675886",
         "77.593027",
         "43",
         "5",
         "NH3",
         "Andhra_Pradesh",
         "Gulzarpet, Anantapur - APPCB"
        ],
        [
         "10",
         "Rajamahendravaram",
         "India",
         "10-05-2025 16:00:00",
         "16.9872867",
         "81.7363176",
         "11",
         "9",
         "SO2",
         "Andhra_Pradesh",
         "Anand Kala Kshetram, Rajamahendravaram - APPCB"
        ],
        [
         "1",
         "Tirumala",
         "India",
         "10-05-2025 16:00:00",
         "13.67",
         "79.35",
         "2",
         "1",
         "NH3",
         "Andhra_Pradesh",
         "Toll Gate, Tirumala - APPCB (Formerly known as Tirumala, Tirupati - APPCB)"
        ],
        [
         "75",
         "Amaravati",
         "India",
         "10-05-2025 16:00:00",
         "16.5150833",
         "80.5181667",
         "88",
         "60",
         "PM10",
         "Andhra_Pradesh",
         "Secretariat, Amaravati - APPCB"
        ],
        [
         "54",
         "Amaravati",
         "India",
         "10-05-2025 16:00:00",
         "16.5150833",
         "80.5181667",
         "73",
         "17",
         "OZONE",
         "Andhra_Pradesh",
         "Secretariat, Amaravati - APPCB"
        ],
        [
         "74",
         "Anantapur",
         "India",
         "10-05-2025 16:00:00",
         "14.675886",
         "77.593027",
         "92",
         "59",
         "PM2.5",
         "Andhra_Pradesh",
         "Gulzarpet, Anantapur - APPCB"
        ],
        [
         "61",
         "Delhi",
         "India",
         "10-05-2025 16:00:00",
         "28.498571",
         "77.264840",
         "88",
         "26",
         "CO",
         "Delhi",
         "Dr. Karni Singh Shooting Range, Delhi - DPCC"
        ],
        [
         "101",
         "Delhi",
         "India",
         "10-05-2025 16:00:00",
         "28.5710274",
         "77.0719006",
         "153",
         "10",
         "OZONE",
         "Delhi",
         "Dwarka-Sector 8, Delhi - DPCC "
        ],
        [
         "146",
         "Delhi",
         "India",
         "10-05-2025 16:00:00",
         "28.5627763",
         "77.1180053",
         "319",
         "7",
         "PM2.5",
         "Delhi",
         "IGI Airport (T3), Delhi - IMD"
        ],
        [
         "1",
         "Siwan",
         "India",
         "10-05-2025 16:00:00",
         "26.2271665",
         "84.3570427",
         "3",
         "1",
         "NH3",
         "Bihar",
         "Chitragupta Nagar, Siwan - BSPCB"
        ],
        [
         "23",
         "Chandigarh",
         "India",
         "10-05-2025 16:00:00",
         "30.735567",
         "76.775714",
         "46",
         "10",
         "NO2",
         "Chandigarh",
         "Sector 22, Chandigarh - CPCC"
        ],
        [
         "57",
         "Chandigarh",
         "India",
         "10-05-2025 16:00:00",
         "30.751462",
         "76.762879",
         "78",
         "38",
         "PM10",
         "Chandigarh",
         "Sector-25, Chandigarh - CPCC"
        ],
        [
         "29",
         "Chandigarh",
         "India",
         "10-05-2025 16:00:00",
         "30.751462",
         "76.762879",
         "54",
         "17",
         "NO2",
         "Chandigarh",
         "Sector-25, Chandigarh - CPCC"
        ],
        [
         "9",
         "Muzaffarpur",
         "India",
         "10-05-2025 16:00:00",
         "26.1209",
         "85.3647",
         "13",
         "6",
         "NO2",
         "Bihar",
         "Muzaffarpur Collectorate, Muzaffarpur - BSPCB"
        ],
        [
         "31",
         "Patna",
         "India",
         "10-05-2025 16:00:00",
         "25.586562",
         "85.043586",
         "34",
         "28",
         "NO2",
         "Bihar",
         "DRM Office Danapur, Patna - BSPCB"
        ],
        [
         "3",
         "Patna",
         "India",
         "10-05-2025 16:00:00",
         "25.586562",
         "85.043586",
         "3",
         "2",
         "NH3",
         "Bihar",
         "DRM Office Danapur, Patna - BSPCB"
        ],
        [
         "8",
         "Patna",
         "India",
         "10-05-2025 16:00:00",
         "25.586562",
         "85.043586",
         "11",
         "6",
         "SO2",
         "Bihar",
         "DRM Office Danapur, Patna - BSPCB"
        ],
        [
         "38",
         "Patna",
         "India",
         "10-05-2025 16:00:00",
         "25.586562",
         "85.043586",
         "116",
         "20",
         "CO",
         "Bihar",
         "DRM Office Danapur, Patna - BSPCB"
        ],
        [
         "8",
         "Patna",
         "India",
         "10-05-2025 16:00:00",
         "25.610369",
         "85.132568",
         "28",
         "1",
         "SO2",
         "Bihar",
         "IGSC Planetarium Complex, Patna - BSPCB"
        ],
        [
         "33",
         "Delhi",
         "India",
         "10-05-2025 16:00:00",
         "28.776200",
         "77.051074",
         "68",
         "11",
         "NO2",
         "Delhi",
         "Bawana, Delhi - DPCC"
        ],
        [
         "186",
         "Delhi",
         "India",
         "10-05-2025 16:00:00",
         "28.7256504",
         "77.2011573",
         "335",
         "50",
         "PM2.5",
         "Delhi",
         "Burari Crossing, Delhi - IMD"
        ],
        [
         "74",
         "Delhi",
         "India",
         "10-05-2025 16:00:00",
         "28.5512005",
         "77.2735737",
         "221",
         "10",
         "NO2",
         "Delhi",
         "CRRI Mathura Road, Delhi - IMD"
        ],
        [
         "84",
         "Delhi",
         "India",
         "10-05-2025 16:00:00",
         "28.656756",
         "77.227234",
         "108",
         "73",
         "CO",
         "Delhi",
         "Chandni Chowk, Delhi - IITM"
        ],
        [
         "31",
         "Bilaspur",
         "India",
         "10-05-2025 16:00:00",
         "22.08815",
         "82.13737",
         "40",
         "26",
         "CO",
         "Chhattisgarh",
         "Mangala, Bilaspur - NTPC"
        ],
        [
         "NA",
         "Korba",
         "India",
         "10-05-2025 16:00:00",
         "22.368195",
         "82.746431",
         "NA",
         "NA",
         "NH3",
         "Chhattisgarh",
         "Rampur, Korba - CECB"
        ],
        [
         "8",
         "Kishanganj",
         "India",
         "10-05-2025 16:00:00",
         "26.0881305",
         "87.93840336",
         "11",
         "5",
         "SO2",
         "Bihar",
         "SDM Office_Khagra, Kishanganj - BSPCB"
        ],
        [
         "NA",
         "Bihar Sharif",
         "India",
         "10-05-2025 16:00:00",
         "25.204762",
         "85.514960",
         "NA",
         "NA",
         "NO2",
         "Bihar",
         "D M Colony, Bihar Sharif - BSPCB"
        ],
        [
         "55",
         "Chhapra",
         "India",
         "10-05-2025 16:00:00",
         "25.7808257",
         "84.7446768",
         "77",
         "35",
         "PM10",
         "Bihar",
         "Darshan Nagar, Chhapra - BSPCB"
        ],
        [
         "114",
         "Chhapra",
         "India",
         "10-05-2025 16:00:00",
         "25.7808257",
         "84.7446768",
         "117",
         "110",
         "NO2",
         "Bihar",
         "Darshan Nagar, Chhapra - BSPCB"
        ],
        [
         "7",
         "Gaya",
         "India",
         "10-05-2025 16:00:00",
         "24.7955",
         "84.9994",
         "14",
         "4",
         "NO2",
         "Bihar",
         "Collectorate, Gaya - BSPCB"
        ],
        [
         "73",
         "Gaya",
         "India",
         "10-05-2025 16:00:00",
         "24.792403",
         "84.992416",
         "103",
         "48",
         "PM2.5",
         "Bihar",
         "Kareemganj, Gaya - BSPCB"
        ],
        [
         "119",
         "Gaya",
         "India",
         "10-05-2025 16:00:00",
         "24.792403",
         "84.992416",
         "189",
         "77",
         "PM10",
         "Bihar",
         "Kareemganj, Gaya - BSPCB"
        ],
        [
         "89",
         "Aurangabad",
         "India",
         "10-05-2025 16:00:00",
         "24.75746",
         "84.366208",
         "200",
         "27",
         "PM2.5",
         "Bihar",
         "Gurdeo Nagar, Aurangabad - BSPCB"
        ],
        [
         "46",
         "Begusarai",
         "India",
         "10-05-2025 16:00:00",
         "25.42742023",
         "86.13886079",
         "58",
         "17",
         "SO2",
         "Bihar",
         "Lohiyanagar, Begusarai - BSPCB"
        ],
        [
         "8",
         "Begusarai",
         "India",
         "10-05-2025 16:00:00",
         "25.42742023",
         "86.13886079",
         "9",
         "1",
         "OZONE",
         "Bihar",
         "Lohiyanagar, Begusarai - BSPCB"
        ],
        [
         "84",
         "Bettiah",
         "India",
         "10-05-2025 16:00:00",
         "26.80365",
         "84.51954",
         "105",
         "27",
         "CO",
         "Bihar",
         "Kamalnath Nagar, Bettiah - BSPCB"
        ],
        [
         "6",
         "Bhagalpur",
         "India",
         "10-05-2025 16:00:00",
         "25.265194",
         "87.012947",
         "6",
         "6",
         "NH3",
         "Bihar",
         "Mayaganj, Bhagalpur - BSPCB"
        ],
        [
         "62",
         "Tirupati",
         "India",
         "10-05-2025 16:00:00",
         "13.615387",
         "79.409230",
         "109",
         "43",
         "PM10",
         "Andhra_Pradesh",
         "Vaikuntapuram, Tirupati - APPCB"
        ],
        [
         "58",
         "Vijayawada",
         "India",
         "10-05-2025 16:00:00",
         "16.536107",
         "80.594233",
         "63",
         "52",
         "PM10",
         "Andhra_Pradesh",
         "HB Colony, Vijayawada - APPCB"
        ],
        [
         "13",
         "Vijayawada",
         "India",
         "10-05-2025 16:00:00",
         "16.486692",
         "80.699436",
         "17",
         "11",
         "SO2",
         "Andhra_Pradesh",
         "Kanuru, Vijayawada - APPCB"
        ],
        [
         "41",
         "Vijayawada",
         "India",
         "10-05-2025 16:00:00",
         "16.509717",
         "80.612222",
         "49",
         "31",
         "NO2",
         "Andhra_Pradesh",
         "Rajiv Gandhi Park, Vijayawada - APPCB"
        ],
        [
         "82",
         "Vijayawada",
         "India",
         "10-05-2025 16:00:00",
         "16.554731",
         "80.649110",
         "151",
         "43",
         "PM2.5",
         "Andhra_Pradesh",
         "Rajiv Nagar, Vijayawada - APPCB"
        ],
        [
         "103",
         "Guwahati",
         "India",
         "10-05-2025 16:00:00",
         "26.10887",
         "91.589544",
         "381",
         "39",
         "PM10",
         "Assam",
         "LGBI Airport, Guwahati - PCBA"
        ],
        [
         "92",
         "Guwahati",
         "India",
         "10-05-2025 16:00:00",
         "26.181742",
         "91.78063",
         "125",
         "69",
         "PM10",
         "Assam",
         "Railway Colony, Guwahati - PCBA"
        ],
        [
         "47",
         "Nagaon",
         "India",
         "10-05-2025 16:00:00",
         "26.349082",
         "92.68449",
         "50",
         "26",
         "CO",
         "Assam",
         "Christianpatty, Nagaon - PCBA"
        ],
        [
         "3",
         "Nalbari",
         "India",
         "10-05-2025 16:00:00",
         "26.446912",
         "91.439057",
         "5",
         "2",
         "NO2",
         "Assam",
         "Bata Chowk, Nalbari - PCBA"
        ],
        [
         "27",
         "Nalbari",
         "India",
         "10-05-2025 16:00:00",
         "26.446912",
         "91.439057",
         "37",
         "13",
         "CO",
         "Assam",
         "Bata Chowk, Nalbari - PCBA"
        ],
        [
         "60",
         "Visakhapatnam",
         "India",
         "10-05-2025 16:00:00",
         "17.72",
         "83.3",
         "85",
         "46",
         "PM2.5",
         "Andhra_Pradesh",
         "GVM Corporation, Visakhapatnam - APPCB"
        ],
        [
         "6",
         "Visakhapatnam",
         "India",
         "10-05-2025 16:00:00",
         "17.72",
         "83.3",
         "27",
         "3",
         "NH3",
         "Andhra_Pradesh",
         "GVM Corporation, Visakhapatnam - APPCB"
        ],
        [
         "179",
         "Delhi",
         "India",
         "10-05-2025 16:00:00",
         "28.6811736",
         "77.3025234",
         "369",
         "60",
         "PM2.5",
         "Delhi",
         "IHBAS, Dilshad Garden, Delhi - CPCB"
        ],
        [
         "4",
         "Delhi",
         "India",
         "10-05-2025 16:00:00",
         "28.6811736",
         "77.3025234",
         "5",
         "1",
         "NH3",
         "Delhi",
         "IHBAS, Dilshad Garden, Delhi - CPCB"
        ],
        [
         "152",
         "Delhi",
         "India",
         "10-05-2025 16:00:00",
         "28.628624",
         "77.241060",
         "345",
         "53",
         "PM2.5",
         "Delhi",
         "ITO, Delhi - CPCB"
        ],
        [
         "3",
         "Patna",
         "India",
         "10-05-2025 16:00:00",
         "25.599486",
         "85.113666",
         "8",
         "1",
         "NH3",
         "Bihar",
         "Rajbansi Nagar, Patna - BSPCB"
        ],
        [
         "8",
         "Patna",
         "India",
         "10-05-2025 16:00:00",
         "25.599486",
         "85.113666",
         "9",
         "3",
         "SO2",
         "Bihar",
         "Rajbansi Nagar, Patna - BSPCB"
        ],
        [
         "3",
         "Patna",
         "India",
         "10-05-2025 16:00:00",
         "25.596727",
         "85.085624",
         "5",
         "2",
         "SO2",
         "Bihar",
         "Samanpura, Patna - BSPCB"
        ],
        [
         "NA",
         "Rajgir",
         "India",
         "10-05-2025 16:00:00",
         "25.03280",
         "85.41948",
         "NA",
         "NA",
         "PM10",
         "Bihar",
         "Dangi Tola, Rajgir - BSPCB"
        ],
        [
         "26",
         "Rajgir",
         "India",
         "10-05-2025 16:00:00",
         "25.03280",
         "85.41948",
         "27",
         "26",
         "CO",
         "Bihar",
         "Dangi Tola, Rajgir - BSPCB"
        ],
        [
         "34",
         "Rajgir",
         "India",
         "10-05-2025 16:00:00",
         "25.03280",
         "85.41948",
         "38",
         "29",
         "OZONE",
         "Bihar",
         "Dangi Tola, Rajgir - BSPCB"
        ],
        [
         "49",
         "Saharsa",
         "India",
         "10-05-2025 16:00:00",
         "25.892357",
         "86.590325",
         "103",
         "12",
         "PM2.5",
         "Bihar",
         "Police Line, Saharsa - BSPCB"
        ],
        [
         "NA",
         "Milupara",
         "India",
         "10-05-2025 16:00:00",
         "22.1910172",
         "83.5197009",
         "NA",
         "NA",
         "CO",
         "Chhattisgarh",
         "Govt. Higher Secondary School, Milupara - CECB"
        ],
        [
         "35",
         "Raipur",
         "India",
         "10-05-2025 16:00:00",
         "21.258815",
         "81.578979",
         "55",
         "22",
         "NO2",
         "Chhattisgarh",
         "AIIMS, Raipur - CECB"
        ],
        [
         "45",
         "Sivasagar",
         "India",
         "10-05-2025 16:00:00",
         "26.987634",
         "94.636574",
         "75",
         "27",
         "PM2.5",
         "Assam",
         "Girls College, Sivasagar - PCBA"
        ],
        [
         "NA",
         "Araria",
         "India",
         "10-05-2025 16:00:00",
         "26.146529",
         "87.454184",
         "NA",
         "NA",
         "NO2",
         "Bihar",
         "Kharahiya Basti, Araria - BSPCB"
        ],
        [
         "49",
         "Araria",
         "India",
         "10-05-2025 16:00:00",
         "26.146529",
         "87.454184",
         "58",
         "29",
         "CO",
         "Bihar",
         "Kharahiya Basti, Araria - BSPCB"
        ],
        [
         "7",
         "Arrah",
         "India",
         "10-05-2025 16:00:00",
         "25.5626095",
         "84.663264",
         "9",
         "4",
         "NO2",
         "Bihar",
         "New DM Office, Arrah - BSPCB"
        ],
        [
         "1",
         "Arrah",
         "India",
         "10-05-2025 16:00:00",
         "25.5626095",
         "84.663264",
         "1",
         "1",
         "NH3",
         "Bihar",
         "New DM Office, Arrah - BSPCB"
        ],
        [
         "25",
         "Arrah",
         "India",
         "10-05-2025 16:00:00",
         "25.5626095",
         "84.663264",
         "38",
         "9",
         "CO",
         "Bihar",
         "New DM Office, Arrah - BSPCB"
        ],
        [
         "99",
         "Hajipur",
         "India",
         "10-05-2025 16:00:00",
         "25.697189",
         "85.245900",
         "114",
         "72",
         "PM10",
         "Bihar",
         "Industrial Area, Hajipur - BSPCB"
        ],
        [
         "28",
         "Hajipur",
         "India",
         "10-05-2025 16:00:00",
         "25.697189",
         "85.245900",
         "40",
         "20",
         "NO2",
         "Bihar",
         "Industrial Area, Hajipur - BSPCB"
        ],
        [
         "46",
         "Katihar",
         "India",
         "10-05-2025 16:00:00",
         "25.560083",
         "87.553265",
         "79",
         "23",
         "PM10",
         "Bihar",
         "Mirchaibari, Katihar - BSPCB"
        ],
        [
         "26",
         "Katihar",
         "India",
         "10-05-2025 16:00:00",
         "25.560083",
         "87.553265",
         "70",
         "4",
         "CO",
         "Bihar",
         "Mirchaibari, Katihar - BSPCB"
        ],
        [
         "61",
         "Kishanganj",
         "India",
         "10-05-2025 16:00:00",
         "26.0881305",
         "87.93840336",
         "82",
         "41",
         "PM10",
         "Bihar",
         "SDM Office_Khagra, Kishanganj - BSPCB"
        ],
        [
         "3",
         "Kishanganj",
         "India",
         "10-05-2025 16:00:00",
         "26.0881305",
         "87.93840336",
         "3",
         "2",
         "NH3",
         "Bihar",
         "SDM Office_Khagra, Kishanganj - BSPCB"
        ],
        [
         "7",
         "Raipur",
         "India",
         "10-05-2025 16:00:00",
         "21.258815",
         "81.578979",
         "7",
         "7",
         "NH3",
         "Chhattisgarh",
         "AIIMS, Raipur - CECB"
        ],
        [
         "9",
         "Raipur",
         "India",
         "10-05-2025 16:00:00",
         "21.258815",
         "81.578979",
         "16",
         "7",
         "SO2",
         "Chhattisgarh",
         "AIIMS, Raipur - CECB"
        ],
        [
         "27",
         "Raipur",
         "India",
         "10-05-2025 16:00:00",
         "21.258815",
         "81.578979",
         "28",
         "20",
         "CO",
         "Chhattisgarh",
         "AIIMS, Raipur - CECB"
        ],
        [
         "3",
         "Raipur",
         "India",
         "10-05-2025 16:00:00",
         "21.371751",
         "81.664929",
         "3",
         "3",
         "NH3",
         "Chhattisgarh",
         "Siltara Phase-II, Raipur - CECB"
        ],
        [
         "17",
         "Raipur",
         "India",
         "10-05-2025 16:00:00",
         "21.371751",
         "81.664929",
         "39",
         "5",
         "SO2",
         "Chhattisgarh",
         "Siltara Phase-II, Raipur - CECB"
        ],
        [
         "69",
         "Tumidih",
         "India",
         "10-05-2025 16:00:00",
         "22.06631475",
         "83.33820077",
         "98",
         "3",
         "OZONE",
         "Chhattisgarh",
         "OP Jindal Industrial Park, Tumidih - CECB"
        ],
        [
         "28",
         "Delhi",
         "India",
         "10-05-2025 16:00:00",
         "28.815329",
         "77.153010",
         "95",
         "7",
         "SO2",
         "Delhi",
         "Alipur, Delhi - DPCC"
        ],
        [
         "58",
         "Delhi",
         "India",
         "10-05-2025 16:00:00",
         "28.815329",
         "77.153010",
         "86",
         "21",
         "CO",
         "Delhi",
         "Alipur, Delhi - DPCC"
        ],
        [
         "187",
         "Delhi",
         "India",
         "10-05-2025 16:00:00",
         "28.695381",
         "77.181665",
         "358",
         "38",
         "PM2.5",
         "Delhi",
         "Ashok Vihar, Delhi - DPCC"
        ],
        [
         "60",
         "Delhi",
         "India",
         "10-05-2025 16:00:00",
         "28.695381",
         "77.181665",
         "122",
         "16",
         "NO2",
         "Delhi",
         "Ashok Vihar, Delhi - DPCC"
        ],
        [
         "24",
         "Delhi",
         "India",
         "10-05-2025 16:00:00",
         "28.695381",
         "77.181665",
         "50",
         "11",
         "SO2",
         "Delhi",
         "Ashok Vihar, Delhi - DPCC"
        ],
        [
         "NA",
         "Samastipur",
         "India",
         "10-05-2025 16:00:00",
         "25.859655",
         "85.77944",
         "NA",
         "NA",
         "PM10",
         "Bihar",
         "DM Office_Kasipur, Samastipur - BSPCB"
        ],
        [
         "1",
         "Manguraha",
         "India",
         "10-05-2025 16:00:00",
         "27.308328",
         "84.531742",
         "1",
         "1",
         "NH3",
         "Bihar",
         "Forest Rest House, Manguraha - BSPCB"
        ],
        [
         "6",
         "Manguraha",
         "India",
         "10-05-2025 16:00:00",
         "27.308328",
         "84.531742",
         "7",
         "5",
         "SO2",
         "Bihar",
         "Forest Rest House, Manguraha - BSPCB"
        ],
        [
         "3",
         "Motihari",
         "India",
         "10-05-2025 16:00:00",
         "26.63086",
         "84.90051",
         "3",
         "3",
         "NH3",
         "Bihar",
         "Gandak Colony, Motihari - BSPCB"
        ],
        [
         "NA",
         "Munger",
         "India",
         "10-05-2025 16:00:00",
         "25.376776",
         "86.471523",
         "NA",
         "NA",
         "PM2.5",
         "Bihar",
         "Town Hall, Munger - BSPCB"
        ],
        [
         "24",
         "Munger",
         "India",
         "10-05-2025 16:00:00",
         "25.376776",
         "86.471523",
         "29",
         "19",
         "CO",
         "Bihar",
         "Town Hall, Munger - BSPCB"
        ],
        [
         "3",
         "Muzaffarpur",
         "India",
         "10-05-2025 16:00:00",
         "26.11442",
         "85.39813",
         "4",
         "2",
         "NH3",
         "Bihar",
         "Buddha Colony, Muzaffarpur - BSPCB"
        ],
        [
         "42",
         "Muzaffarpur",
         "India",
         "10-05-2025 16:00:00",
         "26.1403345",
         "85.3650192",
         "63",
         "30",
         "PM2.5",
         "Bihar",
         "MIT-Daudpur Kothi, Muzaffarpur - BSPCB"
        ],
        [
         "13",
         "Muzaffarpur",
         "India",
         "10-05-2025 16:00:00",
         "26.1403345",
         "85.3650192",
         "15",
         "11",
         "NO2",
         "Bihar",
         "MIT-Daudpur Kothi, Muzaffarpur - BSPCB"
        ],
        [
         "7",
         "Muzaffarpur",
         "India",
         "10-05-2025 16:00:00",
         "26.1403345",
         "85.3650192",
         "9",
         "4",
         "SO2",
         "Bihar",
         "MIT-Daudpur Kothi, Muzaffarpur - BSPCB"
        ],
        [
         "48",
         "Silchar",
         "India",
         "10-05-2025 16:00:00",
         "24.82827",
         "92.79525",
         "71",
         "32",
         "PM2.5",
         "Assam",
         "Tarapur, Silchar - PCBA"
        ],
        [
         "12",
         "Silchar",
         "India",
         "10-05-2025 16:00:00",
         "24.82827",
         "92.79525",
         "20",
         "6",
         "NO2",
         "Assam",
         "Tarapur, Silchar - PCBA"
        ],
        [
         "18",
         "Silchar",
         "India",
         "10-05-2025 16:00:00",
         "24.82827",
         "92.79525",
         "41",
         "1",
         "OZONE",
         "Assam",
         "Tarapur, Silchar - PCBA"
        ]
       ],
       "datasetInfos": [],
       "dbfsResultPath": null,
       "isJsonSchema": true,
       "metadata": {},
       "overflow": false,
       "plotOptions": {
        "customPlotOptions": {},
        "displayType": "table",
        "pivotAggregation": null,
        "pivotColumns": null,
        "xColumns": null,
        "yColumns": null
       },
       "removedWidgets": [],
       "schema": [
        {
         "metadata": "{}",
         "name": "avg_value",
         "type": "\"string\""
        },
        {
         "metadata": "{}",
         "name": "city",
         "type": "\"string\""
        },
        {
         "metadata": "{}",
         "name": "country",
         "type": "\"string\""
        },
        {
         "metadata": "{}",
         "name": "last_update",
         "type": "\"string\""
        },
        {
         "metadata": "{}",
         "name": "latitude",
         "type": "\"string\""
        },
        {
         "metadata": "{}",
         "name": "longitude",
         "type": "\"string\""
        },
        {
         "metadata": "{}",
         "name": "max_value",
         "type": "\"string\""
        },
        {
         "metadata": "{}",
         "name": "min_value",
         "type": "\"string\""
        },
        {
         "metadata": "{}",
         "name": "pollutant_id",
         "type": "\"string\""
        },
        {
         "metadata": "{}",
         "name": "state",
         "type": "\"string\""
        },
        {
         "metadata": "{}",
         "name": "station",
         "type": "\"string\""
        }
       ],
       "type": "table"
      }
     },
     "output_type": "display_data"
    }
   ],
   "source": [
    "display(dataF)"
   ]
  },
  {
   "cell_type": "code",
   "execution_count": 0,
   "metadata": {
    "application/vnd.databricks.v1+cell": {
     "cellMetadata": {
      "byteLimit": 2048000,
      "rowLimit": 10000
     },
     "inputWidgets": {},
     "nuid": "47abea58-aa14-440e-acd6-fe8bbb7ff82a",
     "showTitle": false,
     "tableResultSettingsMap": {},
     "title": ""
    }
   },
   "outputs": [
    {
     "output_type": "stream",
     "name": "stdout",
     "output_type": "stream",
     "text": [
      "root\n |-- avg_value: string (nullable = true)\n |-- city: string (nullable = true)\n |-- country: string (nullable = true)\n |-- last_update: string (nullable = true)\n |-- latitude: string (nullable = true)\n |-- longitude: string (nullable = true)\n |-- max_value: string (nullable = true)\n |-- min_value: string (nullable = true)\n |-- pollutant_id: string (nullable = true)\n |-- state: string (nullable = true)\n |-- station: string (nullable = true)\n\n"
     ]
    }
   ],
   "source": [
    "dataF.printSchema()"
   ]
  },
  {
   "cell_type": "code",
   "execution_count": 0,
   "metadata": {
    "application/vnd.databricks.v1+cell": {
     "cellMetadata": {
      "byteLimit": 2048000,
      "rowLimit": 10000
     },
     "inputWidgets": {},
     "nuid": "20ca5453-cfd5-4bbe-a37b-548250308b3f",
     "showTitle": false,
     "tableResultSettingsMap": {},
     "title": ""
    }
   },
   "outputs": [],
   "source": [
    "from pyspark.sql.functions import to_timestamp, col\n",
    "\n",
    "df_fixedSchema = dataF.withColumn(\"last_update\", to_timestamp(col(\"last_update\"), \"dd-MM-yyyy HH:mm:ss\")) \\\n",
    "                        .withColumn(\"avg_value\", col(\"avg_value\").cast(\"double\")) \\\n",
    "                        .withColumn(\"max_value\", col(\"max_value\").cast(\"double\")) \\\n",
    "                        .withColumn(\"min_value\", col(\"min_value\").cast(\"double\")) \\\n",
    "                        .withColumn(\"latitude\", col(\"latitude\").cast(\"double\")) \\\n",
    "                        .withColumn(\"longitude\", col(\"longitude\").cast(\"double\"))  "
   ]
  },
  {
   "cell_type": "code",
   "execution_count": 0,
   "metadata": {
    "application/vnd.databricks.v1+cell": {
     "cellMetadata": {
      "byteLimit": 2048000,
      "rowLimit": 10000
     },
     "inputWidgets": {},
     "nuid": "e4ea8a48-879c-49c1-8f5f-1f67c2997b6e",
     "showTitle": false,
     "tableResultSettingsMap": {},
     "title": ""
    }
   },
   "outputs": [
    {
     "output_type": "display_data",
     "data": {
      "text/html": [
       "<style scoped>\n",
       "  .table-result-container {\n",
       "    max-height: 300px;\n",
       "    overflow: auto;\n",
       "  }\n",
       "  table, th, td {\n",
       "    border: 1px solid black;\n",
       "    border-collapse: collapse;\n",
       "  }\n",
       "  th, td {\n",
       "    padding: 5px;\n",
       "  }\n",
       "  th {\n",
       "    text-align: left;\n",
       "  }\n",
       "</style><div class='table-result-container'><table class='table-result'><thead style='background-color: white'><tr><th>avg_value</th><th>city</th><th>country</th><th>last_update</th><th>latitude</th><th>longitude</th><th>max_value</th><th>min_value</th><th>pollutant_id</th><th>state</th><th>station</th></tr></thead><tbody><tr><td>64.0</td><td>Naharlagun</td><td>India</td><td>2025-05-10T16:00:00.000+0000</td><td>27.103358</td><td>93.679645</td><td>134.0</td><td>32.0</td><td>PM2.5</td><td>Arunachal_Pradesh</td><td>Naharlagun, Naharlagun - APSPCB</td></tr><tr><td>11.0</td><td>Byrnihat</td><td>India</td><td>2025-05-10T16:00:00.000+0000</td><td>26.071318</td><td>91.87488</td><td>21.0</td><td>5.0</td><td>NO2</td><td>Assam</td><td>Central Academy for SFS, Byrnihat - PCBA</td></tr><tr><td>40.0</td><td>Anantapur</td><td>India</td><td>2025-05-10T16:00:00.000+0000</td><td>14.675886</td><td>77.593027</td><td>121.0</td><td>23.0</td><td>NO2</td><td>Andhra_Pradesh</td><td>Gulzarpet, Anantapur - APPCB</td></tr><tr><td>11.0</td><td>Anantapur</td><td>India</td><td>2025-05-10T16:00:00.000+0000</td><td>14.675886</td><td>77.593027</td><td>43.0</td><td>5.0</td><td>NH3</td><td>Andhra_Pradesh</td><td>Gulzarpet, Anantapur - APPCB</td></tr><tr><td>10.0</td><td>Rajamahendravaram</td><td>India</td><td>2025-05-10T16:00:00.000+0000</td><td>16.9872867</td><td>81.7363176</td><td>11.0</td><td>9.0</td><td>SO2</td><td>Andhra_Pradesh</td><td>Anand Kala Kshetram, Rajamahendravaram - APPCB</td></tr><tr><td>1.0</td><td>Tirumala</td><td>India</td><td>2025-05-10T16:00:00.000+0000</td><td>13.67</td><td>79.35</td><td>2.0</td><td>1.0</td><td>NH3</td><td>Andhra_Pradesh</td><td>Toll Gate, Tirumala - APPCB (Formerly known as Tirumala, Tirupati - APPCB)</td></tr><tr><td>75.0</td><td>Amaravati</td><td>India</td><td>2025-05-10T16:00:00.000+0000</td><td>16.5150833</td><td>80.5181667</td><td>88.0</td><td>60.0</td><td>PM10</td><td>Andhra_Pradesh</td><td>Secretariat, Amaravati - APPCB</td></tr><tr><td>54.0</td><td>Amaravati</td><td>India</td><td>2025-05-10T16:00:00.000+0000</td><td>16.5150833</td><td>80.5181667</td><td>73.0</td><td>17.0</td><td>OZONE</td><td>Andhra_Pradesh</td><td>Secretariat, Amaravati - APPCB</td></tr><tr><td>74.0</td><td>Anantapur</td><td>India</td><td>2025-05-10T16:00:00.000+0000</td><td>14.675886</td><td>77.593027</td><td>92.0</td><td>59.0</td><td>PM2.5</td><td>Andhra_Pradesh</td><td>Gulzarpet, Anantapur - APPCB</td></tr><tr><td>61.0</td><td>Delhi</td><td>India</td><td>2025-05-10T16:00:00.000+0000</td><td>28.498571</td><td>77.26484</td><td>88.0</td><td>26.0</td><td>CO</td><td>Delhi</td><td>Dr. Karni Singh Shooting Range, Delhi - DPCC</td></tr><tr><td>101.0</td><td>Delhi</td><td>India</td><td>2025-05-10T16:00:00.000+0000</td><td>28.5710274</td><td>77.0719006</td><td>153.0</td><td>10.0</td><td>OZONE</td><td>Delhi</td><td>Dwarka-Sector 8, Delhi - DPCC </td></tr><tr><td>146.0</td><td>Delhi</td><td>India</td><td>2025-05-10T16:00:00.000+0000</td><td>28.5627763</td><td>77.1180053</td><td>319.0</td><td>7.0</td><td>PM2.5</td><td>Delhi</td><td>IGI Airport (T3), Delhi - IMD</td></tr><tr><td>1.0</td><td>Siwan</td><td>India</td><td>2025-05-10T16:00:00.000+0000</td><td>26.2271665</td><td>84.3570427</td><td>3.0</td><td>1.0</td><td>NH3</td><td>Bihar</td><td>Chitragupta Nagar, Siwan - BSPCB</td></tr><tr><td>23.0</td><td>Chandigarh</td><td>India</td><td>2025-05-10T16:00:00.000+0000</td><td>30.735567</td><td>76.775714</td><td>46.0</td><td>10.0</td><td>NO2</td><td>Chandigarh</td><td>Sector 22, Chandigarh - CPCC</td></tr><tr><td>57.0</td><td>Chandigarh</td><td>India</td><td>2025-05-10T16:00:00.000+0000</td><td>30.751462</td><td>76.762879</td><td>78.0</td><td>38.0</td><td>PM10</td><td>Chandigarh</td><td>Sector-25, Chandigarh - CPCC</td></tr><tr><td>29.0</td><td>Chandigarh</td><td>India</td><td>2025-05-10T16:00:00.000+0000</td><td>30.751462</td><td>76.762879</td><td>54.0</td><td>17.0</td><td>NO2</td><td>Chandigarh</td><td>Sector-25, Chandigarh - CPCC</td></tr><tr><td>9.0</td><td>Muzaffarpur</td><td>India</td><td>2025-05-10T16:00:00.000+0000</td><td>26.1209</td><td>85.3647</td><td>13.0</td><td>6.0</td><td>NO2</td><td>Bihar</td><td>Muzaffarpur Collectorate, Muzaffarpur - BSPCB</td></tr><tr><td>31.0</td><td>Patna</td><td>India</td><td>2025-05-10T16:00:00.000+0000</td><td>25.586562</td><td>85.043586</td><td>34.0</td><td>28.0</td><td>NO2</td><td>Bihar</td><td>DRM Office Danapur, Patna - BSPCB</td></tr><tr><td>3.0</td><td>Patna</td><td>India</td><td>2025-05-10T16:00:00.000+0000</td><td>25.586562</td><td>85.043586</td><td>3.0</td><td>2.0</td><td>NH3</td><td>Bihar</td><td>DRM Office Danapur, Patna - BSPCB</td></tr><tr><td>8.0</td><td>Patna</td><td>India</td><td>2025-05-10T16:00:00.000+0000</td><td>25.586562</td><td>85.043586</td><td>11.0</td><td>6.0</td><td>SO2</td><td>Bihar</td><td>DRM Office Danapur, Patna - BSPCB</td></tr><tr><td>38.0</td><td>Patna</td><td>India</td><td>2025-05-10T16:00:00.000+0000</td><td>25.586562</td><td>85.043586</td><td>116.0</td><td>20.0</td><td>CO</td><td>Bihar</td><td>DRM Office Danapur, Patna - BSPCB</td></tr><tr><td>8.0</td><td>Patna</td><td>India</td><td>2025-05-10T16:00:00.000+0000</td><td>25.610369</td><td>85.132568</td><td>28.0</td><td>1.0</td><td>SO2</td><td>Bihar</td><td>IGSC Planetarium Complex, Patna - BSPCB</td></tr><tr><td>33.0</td><td>Delhi</td><td>India</td><td>2025-05-10T16:00:00.000+0000</td><td>28.7762</td><td>77.051074</td><td>68.0</td><td>11.0</td><td>NO2</td><td>Delhi</td><td>Bawana, Delhi - DPCC</td></tr><tr><td>186.0</td><td>Delhi</td><td>India</td><td>2025-05-10T16:00:00.000+0000</td><td>28.7256504</td><td>77.2011573</td><td>335.0</td><td>50.0</td><td>PM2.5</td><td>Delhi</td><td>Burari Crossing, Delhi - IMD</td></tr><tr><td>74.0</td><td>Delhi</td><td>India</td><td>2025-05-10T16:00:00.000+0000</td><td>28.5512005</td><td>77.2735737</td><td>221.0</td><td>10.0</td><td>NO2</td><td>Delhi</td><td>CRRI Mathura Road, Delhi - IMD</td></tr><tr><td>84.0</td><td>Delhi</td><td>India</td><td>2025-05-10T16:00:00.000+0000</td><td>28.656756</td><td>77.227234</td><td>108.0</td><td>73.0</td><td>CO</td><td>Delhi</td><td>Chandni Chowk, Delhi - IITM</td></tr><tr><td>31.0</td><td>Bilaspur</td><td>India</td><td>2025-05-10T16:00:00.000+0000</td><td>22.08815</td><td>82.13737</td><td>40.0</td><td>26.0</td><td>CO</td><td>Chhattisgarh</td><td>Mangala, Bilaspur - NTPC</td></tr><tr><td>null</td><td>Korba</td><td>India</td><td>2025-05-10T16:00:00.000+0000</td><td>22.368195</td><td>82.746431</td><td>null</td><td>null</td><td>NH3</td><td>Chhattisgarh</td><td>Rampur, Korba - CECB</td></tr><tr><td>8.0</td><td>Kishanganj</td><td>India</td><td>2025-05-10T16:00:00.000+0000</td><td>26.0881305</td><td>87.93840336</td><td>11.0</td><td>5.0</td><td>SO2</td><td>Bihar</td><td>SDM Office_Khagra, Kishanganj - BSPCB</td></tr><tr><td>null</td><td>Bihar Sharif</td><td>India</td><td>2025-05-10T16:00:00.000+0000</td><td>25.204762</td><td>85.51496</td><td>null</td><td>null</td><td>NO2</td><td>Bihar</td><td>D M Colony, Bihar Sharif - BSPCB</td></tr><tr><td>55.0</td><td>Chhapra</td><td>India</td><td>2025-05-10T16:00:00.000+0000</td><td>25.7808257</td><td>84.7446768</td><td>77.0</td><td>35.0</td><td>PM10</td><td>Bihar</td><td>Darshan Nagar, Chhapra - BSPCB</td></tr><tr><td>114.0</td><td>Chhapra</td><td>India</td><td>2025-05-10T16:00:00.000+0000</td><td>25.7808257</td><td>84.7446768</td><td>117.0</td><td>110.0</td><td>NO2</td><td>Bihar</td><td>Darshan Nagar, Chhapra - BSPCB</td></tr><tr><td>7.0</td><td>Gaya</td><td>India</td><td>2025-05-10T16:00:00.000+0000</td><td>24.7955</td><td>84.9994</td><td>14.0</td><td>4.0</td><td>NO2</td><td>Bihar</td><td>Collectorate, Gaya - BSPCB</td></tr><tr><td>73.0</td><td>Gaya</td><td>India</td><td>2025-05-10T16:00:00.000+0000</td><td>24.792403</td><td>84.992416</td><td>103.0</td><td>48.0</td><td>PM2.5</td><td>Bihar</td><td>Kareemganj, Gaya - BSPCB</td></tr><tr><td>119.0</td><td>Gaya</td><td>India</td><td>2025-05-10T16:00:00.000+0000</td><td>24.792403</td><td>84.992416</td><td>189.0</td><td>77.0</td><td>PM10</td><td>Bihar</td><td>Kareemganj, Gaya - BSPCB</td></tr><tr><td>89.0</td><td>Aurangabad</td><td>India</td><td>2025-05-10T16:00:00.000+0000</td><td>24.75746</td><td>84.366208</td><td>200.0</td><td>27.0</td><td>PM2.5</td><td>Bihar</td><td>Gurdeo Nagar, Aurangabad - BSPCB</td></tr><tr><td>46.0</td><td>Begusarai</td><td>India</td><td>2025-05-10T16:00:00.000+0000</td><td>25.42742023</td><td>86.13886079</td><td>58.0</td><td>17.0</td><td>SO2</td><td>Bihar</td><td>Lohiyanagar, Begusarai - BSPCB</td></tr><tr><td>8.0</td><td>Begusarai</td><td>India</td><td>2025-05-10T16:00:00.000+0000</td><td>25.42742023</td><td>86.13886079</td><td>9.0</td><td>1.0</td><td>OZONE</td><td>Bihar</td><td>Lohiyanagar, Begusarai - BSPCB</td></tr><tr><td>84.0</td><td>Bettiah</td><td>India</td><td>2025-05-10T16:00:00.000+0000</td><td>26.80365</td><td>84.51954</td><td>105.0</td><td>27.0</td><td>CO</td><td>Bihar</td><td>Kamalnath Nagar, Bettiah - BSPCB</td></tr><tr><td>6.0</td><td>Bhagalpur</td><td>India</td><td>2025-05-10T16:00:00.000+0000</td><td>25.265194</td><td>87.012947</td><td>6.0</td><td>6.0</td><td>NH3</td><td>Bihar</td><td>Mayaganj, Bhagalpur - BSPCB</td></tr><tr><td>62.0</td><td>Tirupati</td><td>India</td><td>2025-05-10T16:00:00.000+0000</td><td>13.615387</td><td>79.40923</td><td>109.0</td><td>43.0</td><td>PM10</td><td>Andhra_Pradesh</td><td>Vaikuntapuram, Tirupati - APPCB</td></tr><tr><td>58.0</td><td>Vijayawada</td><td>India</td><td>2025-05-10T16:00:00.000+0000</td><td>16.536107</td><td>80.594233</td><td>63.0</td><td>52.0</td><td>PM10</td><td>Andhra_Pradesh</td><td>HB Colony, Vijayawada - APPCB</td></tr><tr><td>13.0</td><td>Vijayawada</td><td>India</td><td>2025-05-10T16:00:00.000+0000</td><td>16.486692</td><td>80.699436</td><td>17.0</td><td>11.0</td><td>SO2</td><td>Andhra_Pradesh</td><td>Kanuru, Vijayawada - APPCB</td></tr><tr><td>41.0</td><td>Vijayawada</td><td>India</td><td>2025-05-10T16:00:00.000+0000</td><td>16.509717</td><td>80.612222</td><td>49.0</td><td>31.0</td><td>NO2</td><td>Andhra_Pradesh</td><td>Rajiv Gandhi Park, Vijayawada - APPCB</td></tr><tr><td>82.0</td><td>Vijayawada</td><td>India</td><td>2025-05-10T16:00:00.000+0000</td><td>16.554731</td><td>80.64911</td><td>151.0</td><td>43.0</td><td>PM2.5</td><td>Andhra_Pradesh</td><td>Rajiv Nagar, Vijayawada - APPCB</td></tr><tr><td>103.0</td><td>Guwahati</td><td>India</td><td>2025-05-10T16:00:00.000+0000</td><td>26.10887</td><td>91.589544</td><td>381.0</td><td>39.0</td><td>PM10</td><td>Assam</td><td>LGBI Airport, Guwahati - PCBA</td></tr><tr><td>92.0</td><td>Guwahati</td><td>India</td><td>2025-05-10T16:00:00.000+0000</td><td>26.181742</td><td>91.78063</td><td>125.0</td><td>69.0</td><td>PM10</td><td>Assam</td><td>Railway Colony, Guwahati - PCBA</td></tr><tr><td>47.0</td><td>Nagaon</td><td>India</td><td>2025-05-10T16:00:00.000+0000</td><td>26.349082</td><td>92.68449</td><td>50.0</td><td>26.0</td><td>CO</td><td>Assam</td><td>Christianpatty, Nagaon - PCBA</td></tr><tr><td>3.0</td><td>Nalbari</td><td>India</td><td>2025-05-10T16:00:00.000+0000</td><td>26.446912</td><td>91.439057</td><td>5.0</td><td>2.0</td><td>NO2</td><td>Assam</td><td>Bata Chowk, Nalbari - PCBA</td></tr><tr><td>27.0</td><td>Nalbari</td><td>India</td><td>2025-05-10T16:00:00.000+0000</td><td>26.446912</td><td>91.439057</td><td>37.0</td><td>13.0</td><td>CO</td><td>Assam</td><td>Bata Chowk, Nalbari - PCBA</td></tr><tr><td>60.0</td><td>Visakhapatnam</td><td>India</td><td>2025-05-10T16:00:00.000+0000</td><td>17.72</td><td>83.3</td><td>85.0</td><td>46.0</td><td>PM2.5</td><td>Andhra_Pradesh</td><td>GVM Corporation, Visakhapatnam - APPCB</td></tr><tr><td>6.0</td><td>Visakhapatnam</td><td>India</td><td>2025-05-10T16:00:00.000+0000</td><td>17.72</td><td>83.3</td><td>27.0</td><td>3.0</td><td>NH3</td><td>Andhra_Pradesh</td><td>GVM Corporation, Visakhapatnam - APPCB</td></tr><tr><td>179.0</td><td>Delhi</td><td>India</td><td>2025-05-10T16:00:00.000+0000</td><td>28.6811736</td><td>77.3025234</td><td>369.0</td><td>60.0</td><td>PM2.5</td><td>Delhi</td><td>IHBAS, Dilshad Garden, Delhi - CPCB</td></tr><tr><td>4.0</td><td>Delhi</td><td>India</td><td>2025-05-10T16:00:00.000+0000</td><td>28.6811736</td><td>77.3025234</td><td>5.0</td><td>1.0</td><td>NH3</td><td>Delhi</td><td>IHBAS, Dilshad Garden, Delhi - CPCB</td></tr><tr><td>152.0</td><td>Delhi</td><td>India</td><td>2025-05-10T16:00:00.000+0000</td><td>28.628624</td><td>77.24106</td><td>345.0</td><td>53.0</td><td>PM2.5</td><td>Delhi</td><td>ITO, Delhi - CPCB</td></tr><tr><td>3.0</td><td>Patna</td><td>India</td><td>2025-05-10T16:00:00.000+0000</td><td>25.599486</td><td>85.113666</td><td>8.0</td><td>1.0</td><td>NH3</td><td>Bihar</td><td>Rajbansi Nagar, Patna - BSPCB</td></tr><tr><td>8.0</td><td>Patna</td><td>India</td><td>2025-05-10T16:00:00.000+0000</td><td>25.599486</td><td>85.113666</td><td>9.0</td><td>3.0</td><td>SO2</td><td>Bihar</td><td>Rajbansi Nagar, Patna - BSPCB</td></tr><tr><td>3.0</td><td>Patna</td><td>India</td><td>2025-05-10T16:00:00.000+0000</td><td>25.596727</td><td>85.085624</td><td>5.0</td><td>2.0</td><td>SO2</td><td>Bihar</td><td>Samanpura, Patna - BSPCB</td></tr><tr><td>null</td><td>Rajgir</td><td>India</td><td>2025-05-10T16:00:00.000+0000</td><td>25.0328</td><td>85.41948</td><td>null</td><td>null</td><td>PM10</td><td>Bihar</td><td>Dangi Tola, Rajgir - BSPCB</td></tr><tr><td>26.0</td><td>Rajgir</td><td>India</td><td>2025-05-10T16:00:00.000+0000</td><td>25.0328</td><td>85.41948</td><td>27.0</td><td>26.0</td><td>CO</td><td>Bihar</td><td>Dangi Tola, Rajgir - BSPCB</td></tr><tr><td>34.0</td><td>Rajgir</td><td>India</td><td>2025-05-10T16:00:00.000+0000</td><td>25.0328</td><td>85.41948</td><td>38.0</td><td>29.0</td><td>OZONE</td><td>Bihar</td><td>Dangi Tola, Rajgir - BSPCB</td></tr><tr><td>49.0</td><td>Saharsa</td><td>India</td><td>2025-05-10T16:00:00.000+0000</td><td>25.892357</td><td>86.590325</td><td>103.0</td><td>12.0</td><td>PM2.5</td><td>Bihar</td><td>Police Line, Saharsa - BSPCB</td></tr><tr><td>null</td><td>Milupara</td><td>India</td><td>2025-05-10T16:00:00.000+0000</td><td>22.1910172</td><td>83.5197009</td><td>null</td><td>null</td><td>CO</td><td>Chhattisgarh</td><td>Govt. Higher Secondary School, Milupara - CECB</td></tr><tr><td>35.0</td><td>Raipur</td><td>India</td><td>2025-05-10T16:00:00.000+0000</td><td>21.258815</td><td>81.578979</td><td>55.0</td><td>22.0</td><td>NO2</td><td>Chhattisgarh</td><td>AIIMS, Raipur - CECB</td></tr><tr><td>45.0</td><td>Sivasagar</td><td>India</td><td>2025-05-10T16:00:00.000+0000</td><td>26.987634</td><td>94.636574</td><td>75.0</td><td>27.0</td><td>PM2.5</td><td>Assam</td><td>Girls College, Sivasagar - PCBA</td></tr><tr><td>null</td><td>Araria</td><td>India</td><td>2025-05-10T16:00:00.000+0000</td><td>26.146529</td><td>87.454184</td><td>null</td><td>null</td><td>NO2</td><td>Bihar</td><td>Kharahiya Basti, Araria - BSPCB</td></tr><tr><td>49.0</td><td>Araria</td><td>India</td><td>2025-05-10T16:00:00.000+0000</td><td>26.146529</td><td>87.454184</td><td>58.0</td><td>29.0</td><td>CO</td><td>Bihar</td><td>Kharahiya Basti, Araria - BSPCB</td></tr><tr><td>7.0</td><td>Arrah</td><td>India</td><td>2025-05-10T16:00:00.000+0000</td><td>25.5626095</td><td>84.663264</td><td>9.0</td><td>4.0</td><td>NO2</td><td>Bihar</td><td>New DM Office, Arrah - BSPCB</td></tr><tr><td>1.0</td><td>Arrah</td><td>India</td><td>2025-05-10T16:00:00.000+0000</td><td>25.5626095</td><td>84.663264</td><td>1.0</td><td>1.0</td><td>NH3</td><td>Bihar</td><td>New DM Office, Arrah - BSPCB</td></tr><tr><td>25.0</td><td>Arrah</td><td>India</td><td>2025-05-10T16:00:00.000+0000</td><td>25.5626095</td><td>84.663264</td><td>38.0</td><td>9.0</td><td>CO</td><td>Bihar</td><td>New DM Office, Arrah - BSPCB</td></tr><tr><td>99.0</td><td>Hajipur</td><td>India</td><td>2025-05-10T16:00:00.000+0000</td><td>25.697189</td><td>85.2459</td><td>114.0</td><td>72.0</td><td>PM10</td><td>Bihar</td><td>Industrial Area, Hajipur - BSPCB</td></tr><tr><td>28.0</td><td>Hajipur</td><td>India</td><td>2025-05-10T16:00:00.000+0000</td><td>25.697189</td><td>85.2459</td><td>40.0</td><td>20.0</td><td>NO2</td><td>Bihar</td><td>Industrial Area, Hajipur - BSPCB</td></tr><tr><td>46.0</td><td>Katihar</td><td>India</td><td>2025-05-10T16:00:00.000+0000</td><td>25.560083</td><td>87.553265</td><td>79.0</td><td>23.0</td><td>PM10</td><td>Bihar</td><td>Mirchaibari, Katihar - BSPCB</td></tr><tr><td>26.0</td><td>Katihar</td><td>India</td><td>2025-05-10T16:00:00.000+0000</td><td>25.560083</td><td>87.553265</td><td>70.0</td><td>4.0</td><td>CO</td><td>Bihar</td><td>Mirchaibari, Katihar - BSPCB</td></tr><tr><td>61.0</td><td>Kishanganj</td><td>India</td><td>2025-05-10T16:00:00.000+0000</td><td>26.0881305</td><td>87.93840336</td><td>82.0</td><td>41.0</td><td>PM10</td><td>Bihar</td><td>SDM Office_Khagra, Kishanganj - BSPCB</td></tr><tr><td>3.0</td><td>Kishanganj</td><td>India</td><td>2025-05-10T16:00:00.000+0000</td><td>26.0881305</td><td>87.93840336</td><td>3.0</td><td>2.0</td><td>NH3</td><td>Bihar</td><td>SDM Office_Khagra, Kishanganj - BSPCB</td></tr><tr><td>7.0</td><td>Raipur</td><td>India</td><td>2025-05-10T16:00:00.000+0000</td><td>21.258815</td><td>81.578979</td><td>7.0</td><td>7.0</td><td>NH3</td><td>Chhattisgarh</td><td>AIIMS, Raipur - CECB</td></tr><tr><td>9.0</td><td>Raipur</td><td>India</td><td>2025-05-10T16:00:00.000+0000</td><td>21.258815</td><td>81.578979</td><td>16.0</td><td>7.0</td><td>SO2</td><td>Chhattisgarh</td><td>AIIMS, Raipur - CECB</td></tr><tr><td>27.0</td><td>Raipur</td><td>India</td><td>2025-05-10T16:00:00.000+0000</td><td>21.258815</td><td>81.578979</td><td>28.0</td><td>20.0</td><td>CO</td><td>Chhattisgarh</td><td>AIIMS, Raipur - CECB</td></tr><tr><td>3.0</td><td>Raipur</td><td>India</td><td>2025-05-10T16:00:00.000+0000</td><td>21.371751</td><td>81.664929</td><td>3.0</td><td>3.0</td><td>NH3</td><td>Chhattisgarh</td><td>Siltara Phase-II, Raipur - CECB</td></tr><tr><td>17.0</td><td>Raipur</td><td>India</td><td>2025-05-10T16:00:00.000+0000</td><td>21.371751</td><td>81.664929</td><td>39.0</td><td>5.0</td><td>SO2</td><td>Chhattisgarh</td><td>Siltara Phase-II, Raipur - CECB</td></tr><tr><td>69.0</td><td>Tumidih</td><td>India</td><td>2025-05-10T16:00:00.000+0000</td><td>22.06631475</td><td>83.33820077</td><td>98.0</td><td>3.0</td><td>OZONE</td><td>Chhattisgarh</td><td>OP Jindal Industrial Park, Tumidih - CECB</td></tr><tr><td>28.0</td><td>Delhi</td><td>India</td><td>2025-05-10T16:00:00.000+0000</td><td>28.815329</td><td>77.15301</td><td>95.0</td><td>7.0</td><td>SO2</td><td>Delhi</td><td>Alipur, Delhi - DPCC</td></tr><tr><td>58.0</td><td>Delhi</td><td>India</td><td>2025-05-10T16:00:00.000+0000</td><td>28.815329</td><td>77.15301</td><td>86.0</td><td>21.0</td><td>CO</td><td>Delhi</td><td>Alipur, Delhi - DPCC</td></tr><tr><td>187.0</td><td>Delhi</td><td>India</td><td>2025-05-10T16:00:00.000+0000</td><td>28.695381</td><td>77.181665</td><td>358.0</td><td>38.0</td><td>PM2.5</td><td>Delhi</td><td>Ashok Vihar, Delhi - DPCC</td></tr><tr><td>60.0</td><td>Delhi</td><td>India</td><td>2025-05-10T16:00:00.000+0000</td><td>28.695381</td><td>77.181665</td><td>122.0</td><td>16.0</td><td>NO2</td><td>Delhi</td><td>Ashok Vihar, Delhi - DPCC</td></tr><tr><td>24.0</td><td>Delhi</td><td>India</td><td>2025-05-10T16:00:00.000+0000</td><td>28.695381</td><td>77.181665</td><td>50.0</td><td>11.0</td><td>SO2</td><td>Delhi</td><td>Ashok Vihar, Delhi - DPCC</td></tr><tr><td>null</td><td>Samastipur</td><td>India</td><td>2025-05-10T16:00:00.000+0000</td><td>25.859655</td><td>85.77944</td><td>null</td><td>null</td><td>PM10</td><td>Bihar</td><td>DM Office_Kasipur, Samastipur - BSPCB</td></tr><tr><td>1.0</td><td>Manguraha</td><td>India</td><td>2025-05-10T16:00:00.000+0000</td><td>27.308328</td><td>84.531742</td><td>1.0</td><td>1.0</td><td>NH3</td><td>Bihar</td><td>Forest Rest House, Manguraha - BSPCB</td></tr><tr><td>6.0</td><td>Manguraha</td><td>India</td><td>2025-05-10T16:00:00.000+0000</td><td>27.308328</td><td>84.531742</td><td>7.0</td><td>5.0</td><td>SO2</td><td>Bihar</td><td>Forest Rest House, Manguraha - BSPCB</td></tr><tr><td>3.0</td><td>Motihari</td><td>India</td><td>2025-05-10T16:00:00.000+0000</td><td>26.63086</td><td>84.90051</td><td>3.0</td><td>3.0</td><td>NH3</td><td>Bihar</td><td>Gandak Colony, Motihari - BSPCB</td></tr><tr><td>null</td><td>Munger</td><td>India</td><td>2025-05-10T16:00:00.000+0000</td><td>25.376776</td><td>86.471523</td><td>null</td><td>null</td><td>PM2.5</td><td>Bihar</td><td>Town Hall, Munger - BSPCB</td></tr><tr><td>24.0</td><td>Munger</td><td>India</td><td>2025-05-10T16:00:00.000+0000</td><td>25.376776</td><td>86.471523</td><td>29.0</td><td>19.0</td><td>CO</td><td>Bihar</td><td>Town Hall, Munger - BSPCB</td></tr><tr><td>3.0</td><td>Muzaffarpur</td><td>India</td><td>2025-05-10T16:00:00.000+0000</td><td>26.11442</td><td>85.39813</td><td>4.0</td><td>2.0</td><td>NH3</td><td>Bihar</td><td>Buddha Colony, Muzaffarpur - BSPCB</td></tr><tr><td>42.0</td><td>Muzaffarpur</td><td>India</td><td>2025-05-10T16:00:00.000+0000</td><td>26.1403345</td><td>85.3650192</td><td>63.0</td><td>30.0</td><td>PM2.5</td><td>Bihar</td><td>MIT-Daudpur Kothi, Muzaffarpur - BSPCB</td></tr><tr><td>13.0</td><td>Muzaffarpur</td><td>India</td><td>2025-05-10T16:00:00.000+0000</td><td>26.1403345</td><td>85.3650192</td><td>15.0</td><td>11.0</td><td>NO2</td><td>Bihar</td><td>MIT-Daudpur Kothi, Muzaffarpur - BSPCB</td></tr><tr><td>7.0</td><td>Muzaffarpur</td><td>India</td><td>2025-05-10T16:00:00.000+0000</td><td>26.1403345</td><td>85.3650192</td><td>9.0</td><td>4.0</td><td>SO2</td><td>Bihar</td><td>MIT-Daudpur Kothi, Muzaffarpur - BSPCB</td></tr><tr><td>48.0</td><td>Silchar</td><td>India</td><td>2025-05-10T16:00:00.000+0000</td><td>24.82827</td><td>92.79525</td><td>71.0</td><td>32.0</td><td>PM2.5</td><td>Assam</td><td>Tarapur, Silchar - PCBA</td></tr><tr><td>12.0</td><td>Silchar</td><td>India</td><td>2025-05-10T16:00:00.000+0000</td><td>24.82827</td><td>92.79525</td><td>20.0</td><td>6.0</td><td>NO2</td><td>Assam</td><td>Tarapur, Silchar - PCBA</td></tr><tr><td>18.0</td><td>Silchar</td><td>India</td><td>2025-05-10T16:00:00.000+0000</td><td>24.82827</td><td>92.79525</td><td>41.0</td><td>1.0</td><td>OZONE</td><td>Assam</td><td>Tarapur, Silchar - PCBA</td></tr></tbody></table></div>"
      ]
     },
     "metadata": {
      "application/vnd.databricks.v1+output": {
       "addedWidgets": {},
       "aggData": [],
       "aggError": "",
       "aggOverflow": false,
       "aggSchema": [],
       "aggSeriesLimitReached": false,
       "aggType": "",
       "arguments": {},
       "columnCustomDisplayInfos": {},
       "data": [
        [
         64.0,
         "Naharlagun",
         "India",
         "2025-05-10T16:00:00.000+0000",
         27.103358,
         93.679645,
         134.0,
         32.0,
         "PM2.5",
         "Arunachal_Pradesh",
         "Naharlagun, Naharlagun - APSPCB"
        ],
        [
         11.0,
         "Byrnihat",
         "India",
         "2025-05-10T16:00:00.000+0000",
         26.071318,
         91.87488,
         21.0,
         5.0,
         "NO2",
         "Assam",
         "Central Academy for SFS, Byrnihat - PCBA"
        ],
        [
         40.0,
         "Anantapur",
         "India",
         "2025-05-10T16:00:00.000+0000",
         14.675886,
         77.593027,
         121.0,
         23.0,
         "NO2",
         "Andhra_Pradesh",
         "Gulzarpet, Anantapur - APPCB"
        ],
        [
         11.0,
         "Anantapur",
         "India",
         "2025-05-10T16:00:00.000+0000",
         14.675886,
         77.593027,
         43.0,
         5.0,
         "NH3",
         "Andhra_Pradesh",
         "Gulzarpet, Anantapur - APPCB"
        ],
        [
         10.0,
         "Rajamahendravaram",
         "India",
         "2025-05-10T16:00:00.000+0000",
         16.9872867,
         81.7363176,
         11.0,
         9.0,
         "SO2",
         "Andhra_Pradesh",
         "Anand Kala Kshetram, Rajamahendravaram - APPCB"
        ],
        [
         1.0,
         "Tirumala",
         "India",
         "2025-05-10T16:00:00.000+0000",
         13.67,
         79.35,
         2.0,
         1.0,
         "NH3",
         "Andhra_Pradesh",
         "Toll Gate, Tirumala - APPCB (Formerly known as Tirumala, Tirupati - APPCB)"
        ],
        [
         75.0,
         "Amaravati",
         "India",
         "2025-05-10T16:00:00.000+0000",
         16.5150833,
         80.5181667,
         88.0,
         60.0,
         "PM10",
         "Andhra_Pradesh",
         "Secretariat, Amaravati - APPCB"
        ],
        [
         54.0,
         "Amaravati",
         "India",
         "2025-05-10T16:00:00.000+0000",
         16.5150833,
         80.5181667,
         73.0,
         17.0,
         "OZONE",
         "Andhra_Pradesh",
         "Secretariat, Amaravati - APPCB"
        ],
        [
         74.0,
         "Anantapur",
         "India",
         "2025-05-10T16:00:00.000+0000",
         14.675886,
         77.593027,
         92.0,
         59.0,
         "PM2.5",
         "Andhra_Pradesh",
         "Gulzarpet, Anantapur - APPCB"
        ],
        [
         61.0,
         "Delhi",
         "India",
         "2025-05-10T16:00:00.000+0000",
         28.498571,
         77.26484,
         88.0,
         26.0,
         "CO",
         "Delhi",
         "Dr. Karni Singh Shooting Range, Delhi - DPCC"
        ],
        [
         101.0,
         "Delhi",
         "India",
         "2025-05-10T16:00:00.000+0000",
         28.5710274,
         77.0719006,
         153.0,
         10.0,
         "OZONE",
         "Delhi",
         "Dwarka-Sector 8, Delhi - DPCC "
        ],
        [
         146.0,
         "Delhi",
         "India",
         "2025-05-10T16:00:00.000+0000",
         28.5627763,
         77.1180053,
         319.0,
         7.0,
         "PM2.5",
         "Delhi",
         "IGI Airport (T3), Delhi - IMD"
        ],
        [
         1.0,
         "Siwan",
         "India",
         "2025-05-10T16:00:00.000+0000",
         26.2271665,
         84.3570427,
         3.0,
         1.0,
         "NH3",
         "Bihar",
         "Chitragupta Nagar, Siwan - BSPCB"
        ],
        [
         23.0,
         "Chandigarh",
         "India",
         "2025-05-10T16:00:00.000+0000",
         30.735567,
         76.775714,
         46.0,
         10.0,
         "NO2",
         "Chandigarh",
         "Sector 22, Chandigarh - CPCC"
        ],
        [
         57.0,
         "Chandigarh",
         "India",
         "2025-05-10T16:00:00.000+0000",
         30.751462,
         76.762879,
         78.0,
         38.0,
         "PM10",
         "Chandigarh",
         "Sector-25, Chandigarh - CPCC"
        ],
        [
         29.0,
         "Chandigarh",
         "India",
         "2025-05-10T16:00:00.000+0000",
         30.751462,
         76.762879,
         54.0,
         17.0,
         "NO2",
         "Chandigarh",
         "Sector-25, Chandigarh - CPCC"
        ],
        [
         9.0,
         "Muzaffarpur",
         "India",
         "2025-05-10T16:00:00.000+0000",
         26.1209,
         85.3647,
         13.0,
         6.0,
         "NO2",
         "Bihar",
         "Muzaffarpur Collectorate, Muzaffarpur - BSPCB"
        ],
        [
         31.0,
         "Patna",
         "India",
         "2025-05-10T16:00:00.000+0000",
         25.586562,
         85.043586,
         34.0,
         28.0,
         "NO2",
         "Bihar",
         "DRM Office Danapur, Patna - BSPCB"
        ],
        [
         3.0,
         "Patna",
         "India",
         "2025-05-10T16:00:00.000+0000",
         25.586562,
         85.043586,
         3.0,
         2.0,
         "NH3",
         "Bihar",
         "DRM Office Danapur, Patna - BSPCB"
        ],
        [
         8.0,
         "Patna",
         "India",
         "2025-05-10T16:00:00.000+0000",
         25.586562,
         85.043586,
         11.0,
         6.0,
         "SO2",
         "Bihar",
         "DRM Office Danapur, Patna - BSPCB"
        ],
        [
         38.0,
         "Patna",
         "India",
         "2025-05-10T16:00:00.000+0000",
         25.586562,
         85.043586,
         116.0,
         20.0,
         "CO",
         "Bihar",
         "DRM Office Danapur, Patna - BSPCB"
        ],
        [
         8.0,
         "Patna",
         "India",
         "2025-05-10T16:00:00.000+0000",
         25.610369,
         85.132568,
         28.0,
         1.0,
         "SO2",
         "Bihar",
         "IGSC Planetarium Complex, Patna - BSPCB"
        ],
        [
         33.0,
         "Delhi",
         "India",
         "2025-05-10T16:00:00.000+0000",
         28.7762,
         77.051074,
         68.0,
         11.0,
         "NO2",
         "Delhi",
         "Bawana, Delhi - DPCC"
        ],
        [
         186.0,
         "Delhi",
         "India",
         "2025-05-10T16:00:00.000+0000",
         28.7256504,
         77.2011573,
         335.0,
         50.0,
         "PM2.5",
         "Delhi",
         "Burari Crossing, Delhi - IMD"
        ],
        [
         74.0,
         "Delhi",
         "India",
         "2025-05-10T16:00:00.000+0000",
         28.5512005,
         77.2735737,
         221.0,
         10.0,
         "NO2",
         "Delhi",
         "CRRI Mathura Road, Delhi - IMD"
        ],
        [
         84.0,
         "Delhi",
         "India",
         "2025-05-10T16:00:00.000+0000",
         28.656756,
         77.227234,
         108.0,
         73.0,
         "CO",
         "Delhi",
         "Chandni Chowk, Delhi - IITM"
        ],
        [
         31.0,
         "Bilaspur",
         "India",
         "2025-05-10T16:00:00.000+0000",
         22.08815,
         82.13737,
         40.0,
         26.0,
         "CO",
         "Chhattisgarh",
         "Mangala, Bilaspur - NTPC"
        ],
        [
         null,
         "Korba",
         "India",
         "2025-05-10T16:00:00.000+0000",
         22.368195,
         82.746431,
         null,
         null,
         "NH3",
         "Chhattisgarh",
         "Rampur, Korba - CECB"
        ],
        [
         8.0,
         "Kishanganj",
         "India",
         "2025-05-10T16:00:00.000+0000",
         26.0881305,
         87.93840336,
         11.0,
         5.0,
         "SO2",
         "Bihar",
         "SDM Office_Khagra, Kishanganj - BSPCB"
        ],
        [
         null,
         "Bihar Sharif",
         "India",
         "2025-05-10T16:00:00.000+0000",
         25.204762,
         85.51496,
         null,
         null,
         "NO2",
         "Bihar",
         "D M Colony, Bihar Sharif - BSPCB"
        ],
        [
         55.0,
         "Chhapra",
         "India",
         "2025-05-10T16:00:00.000+0000",
         25.7808257,
         84.7446768,
         77.0,
         35.0,
         "PM10",
         "Bihar",
         "Darshan Nagar, Chhapra - BSPCB"
        ],
        [
         114.0,
         "Chhapra",
         "India",
         "2025-05-10T16:00:00.000+0000",
         25.7808257,
         84.7446768,
         117.0,
         110.0,
         "NO2",
         "Bihar",
         "Darshan Nagar, Chhapra - BSPCB"
        ],
        [
         7.0,
         "Gaya",
         "India",
         "2025-05-10T16:00:00.000+0000",
         24.7955,
         84.9994,
         14.0,
         4.0,
         "NO2",
         "Bihar",
         "Collectorate, Gaya - BSPCB"
        ],
        [
         73.0,
         "Gaya",
         "India",
         "2025-05-10T16:00:00.000+0000",
         24.792403,
         84.992416,
         103.0,
         48.0,
         "PM2.5",
         "Bihar",
         "Kareemganj, Gaya - BSPCB"
        ],
        [
         119.0,
         "Gaya",
         "India",
         "2025-05-10T16:00:00.000+0000",
         24.792403,
         84.992416,
         189.0,
         77.0,
         "PM10",
         "Bihar",
         "Kareemganj, Gaya - BSPCB"
        ],
        [
         89.0,
         "Aurangabad",
         "India",
         "2025-05-10T16:00:00.000+0000",
         24.75746,
         84.366208,
         200.0,
         27.0,
         "PM2.5",
         "Bihar",
         "Gurdeo Nagar, Aurangabad - BSPCB"
        ],
        [
         46.0,
         "Begusarai",
         "India",
         "2025-05-10T16:00:00.000+0000",
         25.42742023,
         86.13886079,
         58.0,
         17.0,
         "SO2",
         "Bihar",
         "Lohiyanagar, Begusarai - BSPCB"
        ],
        [
         8.0,
         "Begusarai",
         "India",
         "2025-05-10T16:00:00.000+0000",
         25.42742023,
         86.13886079,
         9.0,
         1.0,
         "OZONE",
         "Bihar",
         "Lohiyanagar, Begusarai - BSPCB"
        ],
        [
         84.0,
         "Bettiah",
         "India",
         "2025-05-10T16:00:00.000+0000",
         26.80365,
         84.51954,
         105.0,
         27.0,
         "CO",
         "Bihar",
         "Kamalnath Nagar, Bettiah - BSPCB"
        ],
        [
         6.0,
         "Bhagalpur",
         "India",
         "2025-05-10T16:00:00.000+0000",
         25.265194,
         87.012947,
         6.0,
         6.0,
         "NH3",
         "Bihar",
         "Mayaganj, Bhagalpur - BSPCB"
        ],
        [
         62.0,
         "Tirupati",
         "India",
         "2025-05-10T16:00:00.000+0000",
         13.615387,
         79.40923,
         109.0,
         43.0,
         "PM10",
         "Andhra_Pradesh",
         "Vaikuntapuram, Tirupati - APPCB"
        ],
        [
         58.0,
         "Vijayawada",
         "India",
         "2025-05-10T16:00:00.000+0000",
         16.536107,
         80.594233,
         63.0,
         52.0,
         "PM10",
         "Andhra_Pradesh",
         "HB Colony, Vijayawada - APPCB"
        ],
        [
         13.0,
         "Vijayawada",
         "India",
         "2025-05-10T16:00:00.000+0000",
         16.486692,
         80.699436,
         17.0,
         11.0,
         "SO2",
         "Andhra_Pradesh",
         "Kanuru, Vijayawada - APPCB"
        ],
        [
         41.0,
         "Vijayawada",
         "India",
         "2025-05-10T16:00:00.000+0000",
         16.509717,
         80.612222,
         49.0,
         31.0,
         "NO2",
         "Andhra_Pradesh",
         "Rajiv Gandhi Park, Vijayawada - APPCB"
        ],
        [
         82.0,
         "Vijayawada",
         "India",
         "2025-05-10T16:00:00.000+0000",
         16.554731,
         80.64911,
         151.0,
         43.0,
         "PM2.5",
         "Andhra_Pradesh",
         "Rajiv Nagar, Vijayawada - APPCB"
        ],
        [
         103.0,
         "Guwahati",
         "India",
         "2025-05-10T16:00:00.000+0000",
         26.10887,
         91.589544,
         381.0,
         39.0,
         "PM10",
         "Assam",
         "LGBI Airport, Guwahati - PCBA"
        ],
        [
         92.0,
         "Guwahati",
         "India",
         "2025-05-10T16:00:00.000+0000",
         26.181742,
         91.78063,
         125.0,
         69.0,
         "PM10",
         "Assam",
         "Railway Colony, Guwahati - PCBA"
        ],
        [
         47.0,
         "Nagaon",
         "India",
         "2025-05-10T16:00:00.000+0000",
         26.349082,
         92.68449,
         50.0,
         26.0,
         "CO",
         "Assam",
         "Christianpatty, Nagaon - PCBA"
        ],
        [
         3.0,
         "Nalbari",
         "India",
         "2025-05-10T16:00:00.000+0000",
         26.446912,
         91.439057,
         5.0,
         2.0,
         "NO2",
         "Assam",
         "Bata Chowk, Nalbari - PCBA"
        ],
        [
         27.0,
         "Nalbari",
         "India",
         "2025-05-10T16:00:00.000+0000",
         26.446912,
         91.439057,
         37.0,
         13.0,
         "CO",
         "Assam",
         "Bata Chowk, Nalbari - PCBA"
        ],
        [
         60.0,
         "Visakhapatnam",
         "India",
         "2025-05-10T16:00:00.000+0000",
         17.72,
         83.3,
         85.0,
         46.0,
         "PM2.5",
         "Andhra_Pradesh",
         "GVM Corporation, Visakhapatnam - APPCB"
        ],
        [
         6.0,
         "Visakhapatnam",
         "India",
         "2025-05-10T16:00:00.000+0000",
         17.72,
         83.3,
         27.0,
         3.0,
         "NH3",
         "Andhra_Pradesh",
         "GVM Corporation, Visakhapatnam - APPCB"
        ],
        [
         179.0,
         "Delhi",
         "India",
         "2025-05-10T16:00:00.000+0000",
         28.6811736,
         77.3025234,
         369.0,
         60.0,
         "PM2.5",
         "Delhi",
         "IHBAS, Dilshad Garden, Delhi - CPCB"
        ],
        [
         4.0,
         "Delhi",
         "India",
         "2025-05-10T16:00:00.000+0000",
         28.6811736,
         77.3025234,
         5.0,
         1.0,
         "NH3",
         "Delhi",
         "IHBAS, Dilshad Garden, Delhi - CPCB"
        ],
        [
         152.0,
         "Delhi",
         "India",
         "2025-05-10T16:00:00.000+0000",
         28.628624,
         77.24106,
         345.0,
         53.0,
         "PM2.5",
         "Delhi",
         "ITO, Delhi - CPCB"
        ],
        [
         3.0,
         "Patna",
         "India",
         "2025-05-10T16:00:00.000+0000",
         25.599486,
         85.113666,
         8.0,
         1.0,
         "NH3",
         "Bihar",
         "Rajbansi Nagar, Patna - BSPCB"
        ],
        [
         8.0,
         "Patna",
         "India",
         "2025-05-10T16:00:00.000+0000",
         25.599486,
         85.113666,
         9.0,
         3.0,
         "SO2",
         "Bihar",
         "Rajbansi Nagar, Patna - BSPCB"
        ],
        [
         3.0,
         "Patna",
         "India",
         "2025-05-10T16:00:00.000+0000",
         25.596727,
         85.085624,
         5.0,
         2.0,
         "SO2",
         "Bihar",
         "Samanpura, Patna - BSPCB"
        ],
        [
         null,
         "Rajgir",
         "India",
         "2025-05-10T16:00:00.000+0000",
         25.0328,
         85.41948,
         null,
         null,
         "PM10",
         "Bihar",
         "Dangi Tola, Rajgir - BSPCB"
        ],
        [
         26.0,
         "Rajgir",
         "India",
         "2025-05-10T16:00:00.000+0000",
         25.0328,
         85.41948,
         27.0,
         26.0,
         "CO",
         "Bihar",
         "Dangi Tola, Rajgir - BSPCB"
        ],
        [
         34.0,
         "Rajgir",
         "India",
         "2025-05-10T16:00:00.000+0000",
         25.0328,
         85.41948,
         38.0,
         29.0,
         "OZONE",
         "Bihar",
         "Dangi Tola, Rajgir - BSPCB"
        ],
        [
         49.0,
         "Saharsa",
         "India",
         "2025-05-10T16:00:00.000+0000",
         25.892357,
         86.590325,
         103.0,
         12.0,
         "PM2.5",
         "Bihar",
         "Police Line, Saharsa - BSPCB"
        ],
        [
         null,
         "Milupara",
         "India",
         "2025-05-10T16:00:00.000+0000",
         22.1910172,
         83.5197009,
         null,
         null,
         "CO",
         "Chhattisgarh",
         "Govt. Higher Secondary School, Milupara - CECB"
        ],
        [
         35.0,
         "Raipur",
         "India",
         "2025-05-10T16:00:00.000+0000",
         21.258815,
         81.578979,
         55.0,
         22.0,
         "NO2",
         "Chhattisgarh",
         "AIIMS, Raipur - CECB"
        ],
        [
         45.0,
         "Sivasagar",
         "India",
         "2025-05-10T16:00:00.000+0000",
         26.987634,
         94.636574,
         75.0,
         27.0,
         "PM2.5",
         "Assam",
         "Girls College, Sivasagar - PCBA"
        ],
        [
         null,
         "Araria",
         "India",
         "2025-05-10T16:00:00.000+0000",
         26.146529,
         87.454184,
         null,
         null,
         "NO2",
         "Bihar",
         "Kharahiya Basti, Araria - BSPCB"
        ],
        [
         49.0,
         "Araria",
         "India",
         "2025-05-10T16:00:00.000+0000",
         26.146529,
         87.454184,
         58.0,
         29.0,
         "CO",
         "Bihar",
         "Kharahiya Basti, Araria - BSPCB"
        ],
        [
         7.0,
         "Arrah",
         "India",
         "2025-05-10T16:00:00.000+0000",
         25.5626095,
         84.663264,
         9.0,
         4.0,
         "NO2",
         "Bihar",
         "New DM Office, Arrah - BSPCB"
        ],
        [
         1.0,
         "Arrah",
         "India",
         "2025-05-10T16:00:00.000+0000",
         25.5626095,
         84.663264,
         1.0,
         1.0,
         "NH3",
         "Bihar",
         "New DM Office, Arrah - BSPCB"
        ],
        [
         25.0,
         "Arrah",
         "India",
         "2025-05-10T16:00:00.000+0000",
         25.5626095,
         84.663264,
         38.0,
         9.0,
         "CO",
         "Bihar",
         "New DM Office, Arrah - BSPCB"
        ],
        [
         99.0,
         "Hajipur",
         "India",
         "2025-05-10T16:00:00.000+0000",
         25.697189,
         85.2459,
         114.0,
         72.0,
         "PM10",
         "Bihar",
         "Industrial Area, Hajipur - BSPCB"
        ],
        [
         28.0,
         "Hajipur",
         "India",
         "2025-05-10T16:00:00.000+0000",
         25.697189,
         85.2459,
         40.0,
         20.0,
         "NO2",
         "Bihar",
         "Industrial Area, Hajipur - BSPCB"
        ],
        [
         46.0,
         "Katihar",
         "India",
         "2025-05-10T16:00:00.000+0000",
         25.560083,
         87.553265,
         79.0,
         23.0,
         "PM10",
         "Bihar",
         "Mirchaibari, Katihar - BSPCB"
        ],
        [
         26.0,
         "Katihar",
         "India",
         "2025-05-10T16:00:00.000+0000",
         25.560083,
         87.553265,
         70.0,
         4.0,
         "CO",
         "Bihar",
         "Mirchaibari, Katihar - BSPCB"
        ],
        [
         61.0,
         "Kishanganj",
         "India",
         "2025-05-10T16:00:00.000+0000",
         26.0881305,
         87.93840336,
         82.0,
         41.0,
         "PM10",
         "Bihar",
         "SDM Office_Khagra, Kishanganj - BSPCB"
        ],
        [
         3.0,
         "Kishanganj",
         "India",
         "2025-05-10T16:00:00.000+0000",
         26.0881305,
         87.93840336,
         3.0,
         2.0,
         "NH3",
         "Bihar",
         "SDM Office_Khagra, Kishanganj - BSPCB"
        ],
        [
         7.0,
         "Raipur",
         "India",
         "2025-05-10T16:00:00.000+0000",
         21.258815,
         81.578979,
         7.0,
         7.0,
         "NH3",
         "Chhattisgarh",
         "AIIMS, Raipur - CECB"
        ],
        [
         9.0,
         "Raipur",
         "India",
         "2025-05-10T16:00:00.000+0000",
         21.258815,
         81.578979,
         16.0,
         7.0,
         "SO2",
         "Chhattisgarh",
         "AIIMS, Raipur - CECB"
        ],
        [
         27.0,
         "Raipur",
         "India",
         "2025-05-10T16:00:00.000+0000",
         21.258815,
         81.578979,
         28.0,
         20.0,
         "CO",
         "Chhattisgarh",
         "AIIMS, Raipur - CECB"
        ],
        [
         3.0,
         "Raipur",
         "India",
         "2025-05-10T16:00:00.000+0000",
         21.371751,
         81.664929,
         3.0,
         3.0,
         "NH3",
         "Chhattisgarh",
         "Siltara Phase-II, Raipur - CECB"
        ],
        [
         17.0,
         "Raipur",
         "India",
         "2025-05-10T16:00:00.000+0000",
         21.371751,
         81.664929,
         39.0,
         5.0,
         "SO2",
         "Chhattisgarh",
         "Siltara Phase-II, Raipur - CECB"
        ],
        [
         69.0,
         "Tumidih",
         "India",
         "2025-05-10T16:00:00.000+0000",
         22.06631475,
         83.33820077,
         98.0,
         3.0,
         "OZONE",
         "Chhattisgarh",
         "OP Jindal Industrial Park, Tumidih - CECB"
        ],
        [
         28.0,
         "Delhi",
         "India",
         "2025-05-10T16:00:00.000+0000",
         28.815329,
         77.15301,
         95.0,
         7.0,
         "SO2",
         "Delhi",
         "Alipur, Delhi - DPCC"
        ],
        [
         58.0,
         "Delhi",
         "India",
         "2025-05-10T16:00:00.000+0000",
         28.815329,
         77.15301,
         86.0,
         21.0,
         "CO",
         "Delhi",
         "Alipur, Delhi - DPCC"
        ],
        [
         187.0,
         "Delhi",
         "India",
         "2025-05-10T16:00:00.000+0000",
         28.695381,
         77.181665,
         358.0,
         38.0,
         "PM2.5",
         "Delhi",
         "Ashok Vihar, Delhi - DPCC"
        ],
        [
         60.0,
         "Delhi",
         "India",
         "2025-05-10T16:00:00.000+0000",
         28.695381,
         77.181665,
         122.0,
         16.0,
         "NO2",
         "Delhi",
         "Ashok Vihar, Delhi - DPCC"
        ],
        [
         24.0,
         "Delhi",
         "India",
         "2025-05-10T16:00:00.000+0000",
         28.695381,
         77.181665,
         50.0,
         11.0,
         "SO2",
         "Delhi",
         "Ashok Vihar, Delhi - DPCC"
        ],
        [
         null,
         "Samastipur",
         "India",
         "2025-05-10T16:00:00.000+0000",
         25.859655,
         85.77944,
         null,
         null,
         "PM10",
         "Bihar",
         "DM Office_Kasipur, Samastipur - BSPCB"
        ],
        [
         1.0,
         "Manguraha",
         "India",
         "2025-05-10T16:00:00.000+0000",
         27.308328,
         84.531742,
         1.0,
         1.0,
         "NH3",
         "Bihar",
         "Forest Rest House, Manguraha - BSPCB"
        ],
        [
         6.0,
         "Manguraha",
         "India",
         "2025-05-10T16:00:00.000+0000",
         27.308328,
         84.531742,
         7.0,
         5.0,
         "SO2",
         "Bihar",
         "Forest Rest House, Manguraha - BSPCB"
        ],
        [
         3.0,
         "Motihari",
         "India",
         "2025-05-10T16:00:00.000+0000",
         26.63086,
         84.90051,
         3.0,
         3.0,
         "NH3",
         "Bihar",
         "Gandak Colony, Motihari - BSPCB"
        ],
        [
         null,
         "Munger",
         "India",
         "2025-05-10T16:00:00.000+0000",
         25.376776,
         86.471523,
         null,
         null,
         "PM2.5",
         "Bihar",
         "Town Hall, Munger - BSPCB"
        ],
        [
         24.0,
         "Munger",
         "India",
         "2025-05-10T16:00:00.000+0000",
         25.376776,
         86.471523,
         29.0,
         19.0,
         "CO",
         "Bihar",
         "Town Hall, Munger - BSPCB"
        ],
        [
         3.0,
         "Muzaffarpur",
         "India",
         "2025-05-10T16:00:00.000+0000",
         26.11442,
         85.39813,
         4.0,
         2.0,
         "NH3",
         "Bihar",
         "Buddha Colony, Muzaffarpur - BSPCB"
        ],
        [
         42.0,
         "Muzaffarpur",
         "India",
         "2025-05-10T16:00:00.000+0000",
         26.1403345,
         85.3650192,
         63.0,
         30.0,
         "PM2.5",
         "Bihar",
         "MIT-Daudpur Kothi, Muzaffarpur - BSPCB"
        ],
        [
         13.0,
         "Muzaffarpur",
         "India",
         "2025-05-10T16:00:00.000+0000",
         26.1403345,
         85.3650192,
         15.0,
         11.0,
         "NO2",
         "Bihar",
         "MIT-Daudpur Kothi, Muzaffarpur - BSPCB"
        ],
        [
         7.0,
         "Muzaffarpur",
         "India",
         "2025-05-10T16:00:00.000+0000",
         26.1403345,
         85.3650192,
         9.0,
         4.0,
         "SO2",
         "Bihar",
         "MIT-Daudpur Kothi, Muzaffarpur - BSPCB"
        ],
        [
         48.0,
         "Silchar",
         "India",
         "2025-05-10T16:00:00.000+0000",
         24.82827,
         92.79525,
         71.0,
         32.0,
         "PM2.5",
         "Assam",
         "Tarapur, Silchar - PCBA"
        ],
        [
         12.0,
         "Silchar",
         "India",
         "2025-05-10T16:00:00.000+0000",
         24.82827,
         92.79525,
         20.0,
         6.0,
         "NO2",
         "Assam",
         "Tarapur, Silchar - PCBA"
        ],
        [
         18.0,
         "Silchar",
         "India",
         "2025-05-10T16:00:00.000+0000",
         24.82827,
         92.79525,
         41.0,
         1.0,
         "OZONE",
         "Assam",
         "Tarapur, Silchar - PCBA"
        ]
       ],
       "datasetInfos": [],
       "dbfsResultPath": null,
       "isJsonSchema": true,
       "metadata": {},
       "overflow": false,
       "plotOptions": {
        "customPlotOptions": {},
        "displayType": "table",
        "pivotAggregation": null,
        "pivotColumns": null,
        "xColumns": null,
        "yColumns": null
       },
       "removedWidgets": [],
       "schema": [
        {
         "metadata": "{}",
         "name": "avg_value",
         "type": "\"double\""
        },
        {
         "metadata": "{}",
         "name": "city",
         "type": "\"string\""
        },
        {
         "metadata": "{}",
         "name": "country",
         "type": "\"string\""
        },
        {
         "metadata": "{}",
         "name": "last_update",
         "type": "\"timestamp\""
        },
        {
         "metadata": "{}",
         "name": "latitude",
         "type": "\"double\""
        },
        {
         "metadata": "{}",
         "name": "longitude",
         "type": "\"double\""
        },
        {
         "metadata": "{}",
         "name": "max_value",
         "type": "\"double\""
        },
        {
         "metadata": "{}",
         "name": "min_value",
         "type": "\"double\""
        },
        {
         "metadata": "{}",
         "name": "pollutant_id",
         "type": "\"string\""
        },
        {
         "metadata": "{}",
         "name": "state",
         "type": "\"string\""
        },
        {
         "metadata": "{}",
         "name": "station",
         "type": "\"string\""
        }
       ],
       "type": "table"
      }
     },
     "output_type": "display_data"
    },
    {
     "output_type": "stream",
     "name": "stdout",
     "output_type": "stream",
     "text": [
      "root\n |-- avg_value: double (nullable = true)\n |-- city: string (nullable = true)\n |-- country: string (nullable = true)\n |-- last_update: timestamp (nullable = true)\n |-- latitude: double (nullable = true)\n |-- longitude: double (nullable = true)\n |-- max_value: double (nullable = true)\n |-- min_value: double (nullable = true)\n |-- pollutant_id: string (nullable = true)\n |-- state: string (nullable = true)\n |-- station: string (nullable = true)\n\n"
     ]
    }
   ],
   "source": [
    "display(df_fixedSchema)\n",
    "df_fixedSchema.printSchema()"
   ]
  },
  {
   "cell_type": "code",
   "execution_count": 0,
   "metadata": {
    "application/vnd.databricks.v1+cell": {
     "cellMetadata": {
      "byteLimit": 2048000,
      "rowLimit": 10000
     },
     "inputWidgets": {},
     "nuid": "6bd82cfc-1389-470a-8821-9d468df7cdcd",
     "showTitle": false,
     "tableResultSettingsMap": {},
     "title": ""
    }
   },
   "outputs": [
    {
     "output_type": "stream",
     "name": "stdout",
     "output_type": "stream",
     "text": [
      "+---------------+----------+-------------+-----------------+--------------+---------------+---------------+---------------+------------------+-----------+-------------+\n|avg_value_nulls|city_nulls|country_nulls|last_update_nulls|latitude_nulls|longitude_nulls|max_value_nulls|min_value_nulls|pollutant_id_nulls|state_nulls|station_nulls|\n+---------------+----------+-------------+-----------------+--------------+---------------+---------------+---------------+------------------+-----------+-------------+\n|              7|         0|            0|                0|             0|              0|              7|              7|                 0|          0|            0|\n+---------------+----------+-------------+-----------------+--------------+---------------+---------------+---------------+------------------+-----------+-------------+\n\n"
     ]
    }
   ],
   "source": [
    "from pyspark.sql.functions import col\n",
    "\n",
    "# for i in df_fixedSchema.columns:\n",
    "#     nullCount = df_fixedSchema.filter(col(i).isNull()).count()\n",
    "#     print(f\"Column {i} has {nullCount} null values.\")\n",
    "\n",
    "# not optimized, If you have 100 columns, it runs 100 separate filter queries, making it slow for large datasets.\n",
    "\n",
    "#alternative optimized for checking nulls\n",
    "df_fixedSchema.selectExpr([f\"sum(case when {col} is NULL then 1 else 0 end) as {col}_nulls\" for col in df_fixedSchema.columns]).show()\n"
   ]
  },
  {
   "cell_type": "code",
   "execution_count": 0,
   "metadata": {
    "application/vnd.databricks.v1+cell": {
     "cellMetadata": {
      "byteLimit": 2048000,
      "rowLimit": 10000
     },
     "inputWidgets": {},
     "nuid": "1944609c-d9a3-494b-8b1d-80be0e0a6233",
     "showTitle": false,
     "tableResultSettingsMap": {},
     "title": ""
    }
   },
   "outputs": [],
   "source": [
    "df_fixedNulls = df_fixedSchema.dropna()"
   ]
  },
  {
   "cell_type": "code",
   "execution_count": 0,
   "metadata": {
    "application/vnd.databricks.v1+cell": {
     "cellMetadata": {
      "byteLimit": 2048000,
      "rowLimit": 10000
     },
     "inputWidgets": {},
     "nuid": "6a71f9b7-e970-497d-8ec9-09e05a0fa350",
     "showTitle": false,
     "tableResultSettingsMap": {},
     "title": ""
    }
   },
   "outputs": [
    {
     "output_type": "stream",
     "name": "stdout",
     "output_type": "stream",
     "text": [
      "Column avg_value has 0 null values.\nColumn city has 0 null values.\nColumn country has 0 null values.\nColumn last_update has 0 null values.\nColumn latitude has 0 null values.\nColumn longitude has 0 null values.\nColumn max_value has 0 null values.\nColumn min_value has 0 null values.\nColumn pollutant_id has 0 null values.\nColumn state has 0 null values.\nColumn station has 0 null values.\n"
     ]
    }
   ],
   "source": [
    "for i in df_fixedNulls.columns:\n",
    "    nullCount = df_fixedNulls.filter(col(i).isNull()).count()\n",
    "    print(f\"Column {i} has {nullCount} null values.\")"
   ]
  },
  {
   "cell_type": "code",
   "execution_count": 0,
   "metadata": {
    "application/vnd.databricks.v1+cell": {
     "cellMetadata": {
      "byteLimit": 2048000,
      "rowLimit": 10000
     },
     "inputWidgets": {},
     "nuid": "ef653dc9-46a9-44cc-80af-62ebe5e794ae",
     "showTitle": false,
     "tableResultSettingsMap": {},
     "title": ""
    }
   },
   "outputs": [
    {
     "output_type": "stream",
     "name": "stdout",
     "output_type": "stream",
     "text": [
      "Out[13]: 93"
     ]
    }
   ],
   "source": [
    "df_fixedNulls.count()"
   ]
  },
  {
   "cell_type": "code",
   "execution_count": 0,
   "metadata": {
    "application/vnd.databricks.v1+cell": {
     "cellMetadata": {
      "byteLimit": 2048000,
      "rowLimit": 10000
     },
     "inputWidgets": {},
     "nuid": "25c28a0c-2126-4bd2-a742-ea15419e5a92",
     "showTitle": false,
     "tableResultSettingsMap": {},
     "title": ""
    }
   },
   "outputs": [
    {
     "output_type": "stream",
     "name": "stdout",
     "output_type": "stream",
     "text": [
      "+---------------+\n|avg_value_nulls|\n+---------------+\n|              0|\n+---------------+\n\n"
     ]
    }
   ],
   "source": [
    "df_fixedNulls.selectExpr(\"COUNT(CASE WHEN `avg_value` IS NULL THEN 1 END) AS avg_value_nulls\").show()  #count nulls in every column "
   ]
  },
  {
   "cell_type": "code",
   "execution_count": 0,
   "metadata": {
    "application/vnd.databricks.v1+cell": {
     "cellMetadata": {
      "byteLimit": 2048000,
      "rowLimit": 10000
     },
     "inputWidgets": {},
     "nuid": "188f290d-2365-4af5-beef-83fc3f1ae4cf",
     "showTitle": false,
     "tableResultSettingsMap": {},
     "title": ""
    }
   },
   "outputs": [
    {
     "output_type": "stream",
     "name": "stdout",
     "output_type": "stream",
     "text": [
      "Total duplicate rows: 0\n"
     ]
    }
   ],
   "source": [
    "# it checks for number of duplicates in that dataframe\n",
    "duplicate_count = df_fixedNulls.count() - df_fixedNulls.distinct().count()\n",
    "print(f\"Total duplicate rows: {duplicate_count}\")"
   ]
  },
  {
   "cell_type": "code",
   "execution_count": 0,
   "metadata": {
    "application/vnd.databricks.v1+cell": {
     "cellMetadata": {
      "byteLimit": 2048000,
      "rowLimit": 10000
     },
     "inputWidgets": {},
     "nuid": "d33aafc0-5cf4-4d31-a604-35951419e86a",
     "showTitle": false,
     "tableResultSettingsMap": {},
     "title": ""
    }
   },
   "outputs": [],
   "source": [
    "df_fixedDuplicates = df_fixedNulls.dropDuplicates()"
   ]
  },
  {
   "cell_type": "code",
   "execution_count": 0,
   "metadata": {
    "application/vnd.databricks.v1+cell": {
     "cellMetadata": {
      "byteLimit": 2048000,
      "rowLimit": 10000
     },
     "inputWidgets": {},
     "nuid": "d2b571db-a111-4e70-ba30-33906f835202",
     "showTitle": false,
     "tableResultSettingsMap": {},
     "title": ""
    }
   },
   "outputs": [
    {
     "output_type": "stream",
     "name": "stdout",
     "output_type": "stream",
     "text": [
      "No Duplicates found\n"
     ]
    }
   ],
   "source": [
    "df_fixedDuplicates.count()\n",
    "\n",
    "if df_fixedNulls.count() == df_fixedDuplicates.count():\n",
    "    print(\"No Duplicates found\")\n",
    "else:       \n",
    "    print(f\"Duplicates {df_fixedNulls.count() - df_fixedDuplicates.count()} found and dropped\")"
   ]
  },
  {
   "cell_type": "code",
   "execution_count": 0,
   "metadata": {
    "application/vnd.databricks.v1+cell": {
     "cellMetadata": {
      "byteLimit": 2048000,
      "rowLimit": 10000
     },
     "inputWidgets": {},
     "nuid": "2d5dfa4d-53e5-4f93-bf05-1ab31aad3fdc",
     "showTitle": false,
     "tableResultSettingsMap": {},
     "title": ""
    }
   },
   "outputs": [
    {
     "output_type": "display_data",
     "data": {
      "text/html": [
       "<style scoped>\n",
       "  .table-result-container {\n",
       "    max-height: 300px;\n",
       "    overflow: auto;\n",
       "  }\n",
       "  table, th, td {\n",
       "    border: 1px solid black;\n",
       "    border-collapse: collapse;\n",
       "  }\n",
       "  th, td {\n",
       "    padding: 5px;\n",
       "  }\n",
       "  th {\n",
       "    text-align: left;\n",
       "  }\n",
       "</style><div class='table-result-container'><table class='table-result'><thead style='background-color: white'><tr><th>avg_value</th><th>city</th><th>country</th><th>last_update</th><th>latitude</th><th>longitude</th><th>max_value</th><th>min_value</th><th>pollutant_id</th><th>state</th><th>station</th></tr></thead><tbody><tr><td>75.0</td><td>Amaravati</td><td>India</td><td>2025-05-10T16:00:00.000+0000</td><td>16.5150833</td><td>80.5181667</td><td>88.0</td><td>60.0</td><td>PM10</td><td>Andhra_Pradesh</td><td>Secretariat, Amaravati - APPCB</td></tr><tr><td>1.0</td><td>Tirumala</td><td>India</td><td>2025-05-10T16:00:00.000+0000</td><td>13.67</td><td>79.35</td><td>2.0</td><td>1.0</td><td>NH3</td><td>Andhra_Pradesh</td><td>Toll Gate, Tirumala - APPCB (Formerly known as Tirumala, Tirupati - APPCB)</td></tr><tr><td>11.0</td><td>Anantapur</td><td>India</td><td>2025-05-10T16:00:00.000+0000</td><td>14.675886</td><td>77.593027</td><td>43.0</td><td>5.0</td><td>NH3</td><td>Andhra_Pradesh</td><td>Gulzarpet, Anantapur - APPCB</td></tr><tr><td>101.0</td><td>Delhi</td><td>India</td><td>2025-05-10T16:00:00.000+0000</td><td>28.5710274</td><td>77.0719006</td><td>153.0</td><td>10.0</td><td>OZONE</td><td>Delhi</td><td>Dwarka-Sector 8, Delhi - DPCC </td></tr><tr><td>64.0</td><td>Naharlagun</td><td>India</td><td>2025-05-10T16:00:00.000+0000</td><td>27.103358</td><td>93.679645</td><td>134.0</td><td>32.0</td><td>PM2.5</td><td>Arunachal_Pradesh</td><td>Naharlagun, Naharlagun - APSPCB</td></tr><tr><td>40.0</td><td>Anantapur</td><td>India</td><td>2025-05-10T16:00:00.000+0000</td><td>14.675886</td><td>77.593027</td><td>121.0</td><td>23.0</td><td>NO2</td><td>Andhra_Pradesh</td><td>Gulzarpet, Anantapur - APPCB</td></tr><tr><td>146.0</td><td>Delhi</td><td>India</td><td>2025-05-10T16:00:00.000+0000</td><td>28.5627763</td><td>77.1180053</td><td>319.0</td><td>7.0</td><td>PM2.5</td><td>Delhi</td><td>IGI Airport (T3), Delhi - IMD</td></tr><tr><td>10.0</td><td>Rajamahendravaram</td><td>India</td><td>2025-05-10T16:00:00.000+0000</td><td>16.9872867</td><td>81.7363176</td><td>11.0</td><td>9.0</td><td>SO2</td><td>Andhra_Pradesh</td><td>Anand Kala Kshetram, Rajamahendravaram - APPCB</td></tr><tr><td>54.0</td><td>Amaravati</td><td>India</td><td>2025-05-10T16:00:00.000+0000</td><td>16.5150833</td><td>80.5181667</td><td>73.0</td><td>17.0</td><td>OZONE</td><td>Andhra_Pradesh</td><td>Secretariat, Amaravati - APPCB</td></tr><tr><td>61.0</td><td>Delhi</td><td>India</td><td>2025-05-10T16:00:00.000+0000</td><td>28.498571</td><td>77.26484</td><td>88.0</td><td>26.0</td><td>CO</td><td>Delhi</td><td>Dr. Karni Singh Shooting Range, Delhi - DPCC</td></tr><tr><td>11.0</td><td>Byrnihat</td><td>India</td><td>2025-05-10T16:00:00.000+0000</td><td>26.071318</td><td>91.87488</td><td>21.0</td><td>5.0</td><td>NO2</td><td>Assam</td><td>Central Academy for SFS, Byrnihat - PCBA</td></tr><tr><td>74.0</td><td>Anantapur</td><td>India</td><td>2025-05-10T16:00:00.000+0000</td><td>14.675886</td><td>77.593027</td><td>92.0</td><td>59.0</td><td>PM2.5</td><td>Andhra_Pradesh</td><td>Gulzarpet, Anantapur - APPCB</td></tr><tr><td>31.0</td><td>Patna</td><td>India</td><td>2025-05-10T16:00:00.000+0000</td><td>25.586562</td><td>85.043586</td><td>34.0</td><td>28.0</td><td>NO2</td><td>Bihar</td><td>DRM Office Danapur, Patna - BSPCB</td></tr><tr><td>8.0</td><td>Patna</td><td>India</td><td>2025-05-10T16:00:00.000+0000</td><td>25.610369</td><td>85.132568</td><td>28.0</td><td>1.0</td><td>SO2</td><td>Bihar</td><td>IGSC Planetarium Complex, Patna - BSPCB</td></tr><tr><td>31.0</td><td>Bilaspur</td><td>India</td><td>2025-05-10T16:00:00.000+0000</td><td>22.08815</td><td>82.13737</td><td>40.0</td><td>26.0</td><td>CO</td><td>Chhattisgarh</td><td>Mangala, Bilaspur - NTPC</td></tr><tr><td>9.0</td><td>Muzaffarpur</td><td>India</td><td>2025-05-10T16:00:00.000+0000</td><td>26.1209</td><td>85.3647</td><td>13.0</td><td>6.0</td><td>NO2</td><td>Bihar</td><td>Muzaffarpur Collectorate, Muzaffarpur - BSPCB</td></tr><tr><td>57.0</td><td>Chandigarh</td><td>India</td><td>2025-05-10T16:00:00.000+0000</td><td>30.751462</td><td>76.762879</td><td>78.0</td><td>38.0</td><td>PM10</td><td>Chandigarh</td><td>Sector-25, Chandigarh - CPCC</td></tr><tr><td>186.0</td><td>Delhi</td><td>India</td><td>2025-05-10T16:00:00.000+0000</td><td>28.7256504</td><td>77.2011573</td><td>335.0</td><td>50.0</td><td>PM2.5</td><td>Delhi</td><td>Burari Crossing, Delhi - IMD</td></tr><tr><td>38.0</td><td>Patna</td><td>India</td><td>2025-05-10T16:00:00.000+0000</td><td>25.586562</td><td>85.043586</td><td>116.0</td><td>20.0</td><td>CO</td><td>Bihar</td><td>DRM Office Danapur, Patna - BSPCB</td></tr><tr><td>74.0</td><td>Delhi</td><td>India</td><td>2025-05-10T16:00:00.000+0000</td><td>28.5512005</td><td>77.2735737</td><td>221.0</td><td>10.0</td><td>NO2</td><td>Delhi</td><td>CRRI Mathura Road, Delhi - IMD</td></tr><tr><td>3.0</td><td>Patna</td><td>India</td><td>2025-05-10T16:00:00.000+0000</td><td>25.586562</td><td>85.043586</td><td>3.0</td><td>2.0</td><td>NH3</td><td>Bihar</td><td>DRM Office Danapur, Patna - BSPCB</td></tr><tr><td>33.0</td><td>Delhi</td><td>India</td><td>2025-05-10T16:00:00.000+0000</td><td>28.7762</td><td>77.051074</td><td>68.0</td><td>11.0</td><td>NO2</td><td>Delhi</td><td>Bawana, Delhi - DPCC</td></tr><tr><td>84.0</td><td>Delhi</td><td>India</td><td>2025-05-10T16:00:00.000+0000</td><td>28.656756</td><td>77.227234</td><td>108.0</td><td>73.0</td><td>CO</td><td>Delhi</td><td>Chandni Chowk, Delhi - IITM</td></tr><tr><td>8.0</td><td>Patna</td><td>India</td><td>2025-05-10T16:00:00.000+0000</td><td>25.586562</td><td>85.043586</td><td>11.0</td><td>6.0</td><td>SO2</td><td>Bihar</td><td>DRM Office Danapur, Patna - BSPCB</td></tr><tr><td>29.0</td><td>Chandigarh</td><td>India</td><td>2025-05-10T16:00:00.000+0000</td><td>30.751462</td><td>76.762879</td><td>54.0</td><td>17.0</td><td>NO2</td><td>Chandigarh</td><td>Sector-25, Chandigarh - CPCC</td></tr><tr><td>23.0</td><td>Chandigarh</td><td>India</td><td>2025-05-10T16:00:00.000+0000</td><td>30.735567</td><td>76.775714</td><td>46.0</td><td>10.0</td><td>NO2</td><td>Chandigarh</td><td>Sector 22, Chandigarh - CPCC</td></tr><tr><td>1.0</td><td>Siwan</td><td>India</td><td>2025-05-10T16:00:00.000+0000</td><td>26.2271665</td><td>84.3570427</td><td>3.0</td><td>1.0</td><td>NH3</td><td>Bihar</td><td>Chitragupta Nagar, Siwan - BSPCB</td></tr><tr><td>7.0</td><td>Gaya</td><td>India</td><td>2025-05-10T16:00:00.000+0000</td><td>24.7955</td><td>84.9994</td><td>14.0</td><td>4.0</td><td>NO2</td><td>Bihar</td><td>Collectorate, Gaya - BSPCB</td></tr><tr><td>84.0</td><td>Bettiah</td><td>India</td><td>2025-05-10T16:00:00.000+0000</td><td>26.80365</td><td>84.51954</td><td>105.0</td><td>27.0</td><td>CO</td><td>Bihar</td><td>Kamalnath Nagar, Bettiah - BSPCB</td></tr><tr><td>114.0</td><td>Chhapra</td><td>India</td><td>2025-05-10T16:00:00.000+0000</td><td>25.7808257</td><td>84.7446768</td><td>117.0</td><td>110.0</td><td>NO2</td><td>Bihar</td><td>Darshan Nagar, Chhapra - BSPCB</td></tr><tr><td>73.0</td><td>Gaya</td><td>India</td><td>2025-05-10T16:00:00.000+0000</td><td>24.792403</td><td>84.992416</td><td>103.0</td><td>48.0</td><td>PM2.5</td><td>Bihar</td><td>Kareemganj, Gaya - BSPCB</td></tr><tr><td>89.0</td><td>Aurangabad</td><td>India</td><td>2025-05-10T16:00:00.000+0000</td><td>24.75746</td><td>84.366208</td><td>200.0</td><td>27.0</td><td>PM2.5</td><td>Bihar</td><td>Gurdeo Nagar, Aurangabad - BSPCB</td></tr><tr><td>46.0</td><td>Begusarai</td><td>India</td><td>2025-05-10T16:00:00.000+0000</td><td>25.42742023</td><td>86.13886079</td><td>58.0</td><td>17.0</td><td>SO2</td><td>Bihar</td><td>Lohiyanagar, Begusarai - BSPCB</td></tr><tr><td>6.0</td><td>Bhagalpur</td><td>India</td><td>2025-05-10T16:00:00.000+0000</td><td>25.265194</td><td>87.012947</td><td>6.0</td><td>6.0</td><td>NH3</td><td>Bihar</td><td>Mayaganj, Bhagalpur - BSPCB</td></tr><tr><td>119.0</td><td>Gaya</td><td>India</td><td>2025-05-10T16:00:00.000+0000</td><td>24.792403</td><td>84.992416</td><td>189.0</td><td>77.0</td><td>PM10</td><td>Bihar</td><td>Kareemganj, Gaya - BSPCB</td></tr><tr><td>8.0</td><td>Kishanganj</td><td>India</td><td>2025-05-10T16:00:00.000+0000</td><td>26.0881305</td><td>87.93840336</td><td>11.0</td><td>5.0</td><td>SO2</td><td>Bihar</td><td>SDM Office_Khagra, Kishanganj - BSPCB</td></tr><tr><td>55.0</td><td>Chhapra</td><td>India</td><td>2025-05-10T16:00:00.000+0000</td><td>25.7808257</td><td>84.7446768</td><td>77.0</td><td>35.0</td><td>PM10</td><td>Bihar</td><td>Darshan Nagar, Chhapra - BSPCB</td></tr><tr><td>8.0</td><td>Begusarai</td><td>India</td><td>2025-05-10T16:00:00.000+0000</td><td>25.42742023</td><td>86.13886079</td><td>9.0</td><td>1.0</td><td>OZONE</td><td>Bihar</td><td>Lohiyanagar, Begusarai - BSPCB</td></tr><tr><td>3.0</td><td>Nalbari</td><td>India</td><td>2025-05-10T16:00:00.000+0000</td><td>26.446912</td><td>91.439057</td><td>5.0</td><td>2.0</td><td>NO2</td><td>Assam</td><td>Bata Chowk, Nalbari - PCBA</td></tr><tr><td>92.0</td><td>Guwahati</td><td>India</td><td>2025-05-10T16:00:00.000+0000</td><td>26.181742</td><td>91.78063</td><td>125.0</td><td>69.0</td><td>PM10</td><td>Assam</td><td>Railway Colony, Guwahati - PCBA</td></tr><tr><td>82.0</td><td>Vijayawada</td><td>India</td><td>2025-05-10T16:00:00.000+0000</td><td>16.554731</td><td>80.64911</td><td>151.0</td><td>43.0</td><td>PM2.5</td><td>Andhra_Pradesh</td><td>Rajiv Nagar, Vijayawada - APPCB</td></tr><tr><td>13.0</td><td>Vijayawada</td><td>India</td><td>2025-05-10T16:00:00.000+0000</td><td>16.486692</td><td>80.699436</td><td>17.0</td><td>11.0</td><td>SO2</td><td>Andhra_Pradesh</td><td>Kanuru, Vijayawada - APPCB</td></tr><tr><td>6.0</td><td>Visakhapatnam</td><td>India</td><td>2025-05-10T16:00:00.000+0000</td><td>17.72</td><td>83.3</td><td>27.0</td><td>3.0</td><td>NH3</td><td>Andhra_Pradesh</td><td>GVM Corporation, Visakhapatnam - APPCB</td></tr><tr><td>27.0</td><td>Nalbari</td><td>India</td><td>2025-05-10T16:00:00.000+0000</td><td>26.446912</td><td>91.439057</td><td>37.0</td><td>13.0</td><td>CO</td><td>Assam</td><td>Bata Chowk, Nalbari - PCBA</td></tr><tr><td>103.0</td><td>Guwahati</td><td>India</td><td>2025-05-10T16:00:00.000+0000</td><td>26.10887</td><td>91.589544</td><td>381.0</td><td>39.0</td><td>PM10</td><td>Assam</td><td>LGBI Airport, Guwahati - PCBA</td></tr><tr><td>60.0</td><td>Visakhapatnam</td><td>India</td><td>2025-05-10T16:00:00.000+0000</td><td>17.72</td><td>83.3</td><td>85.0</td><td>46.0</td><td>PM2.5</td><td>Andhra_Pradesh</td><td>GVM Corporation, Visakhapatnam - APPCB</td></tr><tr><td>62.0</td><td>Tirupati</td><td>India</td><td>2025-05-10T16:00:00.000+0000</td><td>13.615387</td><td>79.40923</td><td>109.0</td><td>43.0</td><td>PM10</td><td>Andhra_Pradesh</td><td>Vaikuntapuram, Tirupati - APPCB</td></tr><tr><td>41.0</td><td>Vijayawada</td><td>India</td><td>2025-05-10T16:00:00.000+0000</td><td>16.509717</td><td>80.612222</td><td>49.0</td><td>31.0</td><td>NO2</td><td>Andhra_Pradesh</td><td>Rajiv Gandhi Park, Vijayawada - APPCB</td></tr><tr><td>47.0</td><td>Nagaon</td><td>India</td><td>2025-05-10T16:00:00.000+0000</td><td>26.349082</td><td>92.68449</td><td>50.0</td><td>26.0</td><td>CO</td><td>Assam</td><td>Christianpatty, Nagaon - PCBA</td></tr><tr><td>58.0</td><td>Vijayawada</td><td>India</td><td>2025-05-10T16:00:00.000+0000</td><td>16.536107</td><td>80.594233</td><td>63.0</td><td>52.0</td><td>PM10</td><td>Andhra_Pradesh</td><td>HB Colony, Vijayawada - APPCB</td></tr><tr><td>8.0</td><td>Patna</td><td>India</td><td>2025-05-10T16:00:00.000+0000</td><td>25.599486</td><td>85.113666</td><td>9.0</td><td>3.0</td><td>SO2</td><td>Bihar</td><td>Rajbansi Nagar, Patna - BSPCB</td></tr><tr><td>4.0</td><td>Delhi</td><td>India</td><td>2025-05-10T16:00:00.000+0000</td><td>28.6811736</td><td>77.3025234</td><td>5.0</td><td>1.0</td><td>NH3</td><td>Delhi</td><td>IHBAS, Dilshad Garden, Delhi - CPCB</td></tr><tr><td>152.0</td><td>Delhi</td><td>India</td><td>2025-05-10T16:00:00.000+0000</td><td>28.628624</td><td>77.24106</td><td>345.0</td><td>53.0</td><td>PM2.5</td><td>Delhi</td><td>ITO, Delhi - CPCB</td></tr><tr><td>34.0</td><td>Rajgir</td><td>India</td><td>2025-05-10T16:00:00.000+0000</td><td>25.0328</td><td>85.41948</td><td>38.0</td><td>29.0</td><td>OZONE</td><td>Bihar</td><td>Dangi Tola, Rajgir - BSPCB</td></tr><tr><td>3.0</td><td>Patna</td><td>India</td><td>2025-05-10T16:00:00.000+0000</td><td>25.599486</td><td>85.113666</td><td>8.0</td><td>1.0</td><td>NH3</td><td>Bihar</td><td>Rajbansi Nagar, Patna - BSPCB</td></tr><tr><td>35.0</td><td>Raipur</td><td>India</td><td>2025-05-10T16:00:00.000+0000</td><td>21.258815</td><td>81.578979</td><td>55.0</td><td>22.0</td><td>NO2</td><td>Chhattisgarh</td><td>AIIMS, Raipur - CECB</td></tr><tr><td>3.0</td><td>Patna</td><td>India</td><td>2025-05-10T16:00:00.000+0000</td><td>25.596727</td><td>85.085624</td><td>5.0</td><td>2.0</td><td>SO2</td><td>Bihar</td><td>Samanpura, Patna - BSPCB</td></tr><tr><td>49.0</td><td>Saharsa</td><td>India</td><td>2025-05-10T16:00:00.000+0000</td><td>25.892357</td><td>86.590325</td><td>103.0</td><td>12.0</td><td>PM2.5</td><td>Bihar</td><td>Police Line, Saharsa - BSPCB</td></tr><tr><td>179.0</td><td>Delhi</td><td>India</td><td>2025-05-10T16:00:00.000+0000</td><td>28.6811736</td><td>77.3025234</td><td>369.0</td><td>60.0</td><td>PM2.5</td><td>Delhi</td><td>IHBAS, Dilshad Garden, Delhi - CPCB</td></tr><tr><td>26.0</td><td>Rajgir</td><td>India</td><td>2025-05-10T16:00:00.000+0000</td><td>25.0328</td><td>85.41948</td><td>27.0</td><td>26.0</td><td>CO</td><td>Bihar</td><td>Dangi Tola, Rajgir - BSPCB</td></tr><tr><td>61.0</td><td>Kishanganj</td><td>India</td><td>2025-05-10T16:00:00.000+0000</td><td>26.0881305</td><td>87.93840336</td><td>82.0</td><td>41.0</td><td>PM10</td><td>Bihar</td><td>SDM Office_Khagra, Kishanganj - BSPCB</td></tr><tr><td>49.0</td><td>Araria</td><td>India</td><td>2025-05-10T16:00:00.000+0000</td><td>26.146529</td><td>87.454184</td><td>58.0</td><td>29.0</td><td>CO</td><td>Bihar</td><td>Kharahiya Basti, Araria - BSPCB</td></tr><tr><td>46.0</td><td>Katihar</td><td>India</td><td>2025-05-10T16:00:00.000+0000</td><td>25.560083</td><td>87.553265</td><td>79.0</td><td>23.0</td><td>PM10</td><td>Bihar</td><td>Mirchaibari, Katihar - BSPCB</td></tr><tr><td>99.0</td><td>Hajipur</td><td>India</td><td>2025-05-10T16:00:00.000+0000</td><td>25.697189</td><td>85.2459</td><td>114.0</td><td>72.0</td><td>PM10</td><td>Bihar</td><td>Industrial Area, Hajipur - BSPCB</td></tr><tr><td>28.0</td><td>Hajipur</td><td>India</td><td>2025-05-10T16:00:00.000+0000</td><td>25.697189</td><td>85.2459</td><td>40.0</td><td>20.0</td><td>NO2</td><td>Bihar</td><td>Industrial Area, Hajipur - BSPCB</td></tr><tr><td>1.0</td><td>Arrah</td><td>India</td><td>2025-05-10T16:00:00.000+0000</td><td>25.5626095</td><td>84.663264</td><td>1.0</td><td>1.0</td><td>NH3</td><td>Bihar</td><td>New DM Office, Arrah - BSPCB</td></tr><tr><td>25.0</td><td>Arrah</td><td>India</td><td>2025-05-10T16:00:00.000+0000</td><td>25.5626095</td><td>84.663264</td><td>38.0</td><td>9.0</td><td>CO</td><td>Bihar</td><td>New DM Office, Arrah - BSPCB</td></tr><tr><td>7.0</td><td>Arrah</td><td>India</td><td>2025-05-10T16:00:00.000+0000</td><td>25.5626095</td><td>84.663264</td><td>9.0</td><td>4.0</td><td>NO2</td><td>Bihar</td><td>New DM Office, Arrah - BSPCB</td></tr><tr><td>3.0</td><td>Kishanganj</td><td>India</td><td>2025-05-10T16:00:00.000+0000</td><td>26.0881305</td><td>87.93840336</td><td>3.0</td><td>2.0</td><td>NH3</td><td>Bihar</td><td>SDM Office_Khagra, Kishanganj - BSPCB</td></tr><tr><td>45.0</td><td>Sivasagar</td><td>India</td><td>2025-05-10T16:00:00.000+0000</td><td>26.987634</td><td>94.636574</td><td>75.0</td><td>27.0</td><td>PM2.5</td><td>Assam</td><td>Girls College, Sivasagar - PCBA</td></tr><tr><td>26.0</td><td>Katihar</td><td>India</td><td>2025-05-10T16:00:00.000+0000</td><td>25.560083</td><td>87.553265</td><td>70.0</td><td>4.0</td><td>CO</td><td>Bihar</td><td>Mirchaibari, Katihar - BSPCB</td></tr><tr><td>17.0</td><td>Raipur</td><td>India</td><td>2025-05-10T16:00:00.000+0000</td><td>21.371751</td><td>81.664929</td><td>39.0</td><td>5.0</td><td>SO2</td><td>Chhattisgarh</td><td>Siltara Phase-II, Raipur - CECB</td></tr><tr><td>187.0</td><td>Delhi</td><td>India</td><td>2025-05-10T16:00:00.000+0000</td><td>28.695381</td><td>77.181665</td><td>358.0</td><td>38.0</td><td>PM2.5</td><td>Delhi</td><td>Ashok Vihar, Delhi - DPCC</td></tr><tr><td>3.0</td><td>Raipur</td><td>India</td><td>2025-05-10T16:00:00.000+0000</td><td>21.371751</td><td>81.664929</td><td>3.0</td><td>3.0</td><td>NH3</td><td>Chhattisgarh</td><td>Siltara Phase-II, Raipur - CECB</td></tr><tr><td>9.0</td><td>Raipur</td><td>India</td><td>2025-05-10T16:00:00.000+0000</td><td>21.258815</td><td>81.578979</td><td>16.0</td><td>7.0</td><td>SO2</td><td>Chhattisgarh</td><td>AIIMS, Raipur - CECB</td></tr><tr><td>7.0</td><td>Raipur</td><td>India</td><td>2025-05-10T16:00:00.000+0000</td><td>21.258815</td><td>81.578979</td><td>7.0</td><td>7.0</td><td>NH3</td><td>Chhattisgarh</td><td>AIIMS, Raipur - CECB</td></tr><tr><td>27.0</td><td>Raipur</td><td>India</td><td>2025-05-10T16:00:00.000+0000</td><td>21.258815</td><td>81.578979</td><td>28.0</td><td>20.0</td><td>CO</td><td>Chhattisgarh</td><td>AIIMS, Raipur - CECB</td></tr><tr><td>60.0</td><td>Delhi</td><td>India</td><td>2025-05-10T16:00:00.000+0000</td><td>28.695381</td><td>77.181665</td><td>122.0</td><td>16.0</td><td>NO2</td><td>Delhi</td><td>Ashok Vihar, Delhi - DPCC</td></tr><tr><td>58.0</td><td>Delhi</td><td>India</td><td>2025-05-10T16:00:00.000+0000</td><td>28.815329</td><td>77.15301</td><td>86.0</td><td>21.0</td><td>CO</td><td>Delhi</td><td>Alipur, Delhi - DPCC</td></tr><tr><td>69.0</td><td>Tumidih</td><td>India</td><td>2025-05-10T16:00:00.000+0000</td><td>22.06631475</td><td>83.33820077</td><td>98.0</td><td>3.0</td><td>OZONE</td><td>Chhattisgarh</td><td>OP Jindal Industrial Park, Tumidih - CECB</td></tr><tr><td>28.0</td><td>Delhi</td><td>India</td><td>2025-05-10T16:00:00.000+0000</td><td>28.815329</td><td>77.15301</td><td>95.0</td><td>7.0</td><td>SO2</td><td>Delhi</td><td>Alipur, Delhi - DPCC</td></tr><tr><td>24.0</td><td>Delhi</td><td>India</td><td>2025-05-10T16:00:00.000+0000</td><td>28.695381</td><td>77.181665</td><td>50.0</td><td>11.0</td><td>SO2</td><td>Delhi</td><td>Ashok Vihar, Delhi - DPCC</td></tr><tr><td>18.0</td><td>Silchar</td><td>India</td><td>2025-05-10T16:00:00.000+0000</td><td>24.82827</td><td>92.79525</td><td>41.0</td><td>1.0</td><td>OZONE</td><td>Assam</td><td>Tarapur, Silchar - PCBA</td></tr><tr><td>3.0</td><td>Muzaffarpur</td><td>India</td><td>2025-05-10T16:00:00.000+0000</td><td>26.11442</td><td>85.39813</td><td>4.0</td><td>2.0</td><td>NH3</td><td>Bihar</td><td>Buddha Colony, Muzaffarpur - BSPCB</td></tr><tr><td>48.0</td><td>Silchar</td><td>India</td><td>2025-05-10T16:00:00.000+0000</td><td>24.82827</td><td>92.79525</td><td>71.0</td><td>32.0</td><td>PM2.5</td><td>Assam</td><td>Tarapur, Silchar - PCBA</td></tr><tr><td>1.0</td><td>Manguraha</td><td>India</td><td>2025-05-10T16:00:00.000+0000</td><td>27.308328</td><td>84.531742</td><td>1.0</td><td>1.0</td><td>NH3</td><td>Bihar</td><td>Forest Rest House, Manguraha - BSPCB</td></tr><tr><td>42.0</td><td>Muzaffarpur</td><td>India</td><td>2025-05-10T16:00:00.000+0000</td><td>26.1403345</td><td>85.3650192</td><td>63.0</td><td>30.0</td><td>PM2.5</td><td>Bihar</td><td>MIT-Daudpur Kothi, Muzaffarpur - BSPCB</td></tr><tr><td>7.0</td><td>Muzaffarpur</td><td>India</td><td>2025-05-10T16:00:00.000+0000</td><td>26.1403345</td><td>85.3650192</td><td>9.0</td><td>4.0</td><td>SO2</td><td>Bihar</td><td>MIT-Daudpur Kothi, Muzaffarpur - BSPCB</td></tr><tr><td>3.0</td><td>Motihari</td><td>India</td><td>2025-05-10T16:00:00.000+0000</td><td>26.63086</td><td>84.90051</td><td>3.0</td><td>3.0</td><td>NH3</td><td>Bihar</td><td>Gandak Colony, Motihari - BSPCB</td></tr><tr><td>24.0</td><td>Munger</td><td>India</td><td>2025-05-10T16:00:00.000+0000</td><td>25.376776</td><td>86.471523</td><td>29.0</td><td>19.0</td><td>CO</td><td>Bihar</td><td>Town Hall, Munger - BSPCB</td></tr><tr><td>12.0</td><td>Silchar</td><td>India</td><td>2025-05-10T16:00:00.000+0000</td><td>24.82827</td><td>92.79525</td><td>20.0</td><td>6.0</td><td>NO2</td><td>Assam</td><td>Tarapur, Silchar - PCBA</td></tr><tr><td>6.0</td><td>Manguraha</td><td>India</td><td>2025-05-10T16:00:00.000+0000</td><td>27.308328</td><td>84.531742</td><td>7.0</td><td>5.0</td><td>SO2</td><td>Bihar</td><td>Forest Rest House, Manguraha - BSPCB</td></tr><tr><td>13.0</td><td>Muzaffarpur</td><td>India</td><td>2025-05-10T16:00:00.000+0000</td><td>26.1403345</td><td>85.3650192</td><td>15.0</td><td>11.0</td><td>NO2</td><td>Bihar</td><td>MIT-Daudpur Kothi, Muzaffarpur - BSPCB</td></tr></tbody></table></div>"
      ]
     },
     "metadata": {
      "application/vnd.databricks.v1+output": {
       "addedWidgets": {},
       "aggData": [],
       "aggError": "",
       "aggOverflow": false,
       "aggSchema": [],
       "aggSeriesLimitReached": false,
       "aggType": "",
       "arguments": {},
       "columnCustomDisplayInfos": {},
       "data": [
        [
         75.0,
         "Amaravati",
         "India",
         "2025-05-10T16:00:00.000+0000",
         16.5150833,
         80.5181667,
         88.0,
         60.0,
         "PM10",
         "Andhra_Pradesh",
         "Secretariat, Amaravati - APPCB"
        ],
        [
         1.0,
         "Tirumala",
         "India",
         "2025-05-10T16:00:00.000+0000",
         13.67,
         79.35,
         2.0,
         1.0,
         "NH3",
         "Andhra_Pradesh",
         "Toll Gate, Tirumala - APPCB (Formerly known as Tirumala, Tirupati - APPCB)"
        ],
        [
         11.0,
         "Anantapur",
         "India",
         "2025-05-10T16:00:00.000+0000",
         14.675886,
         77.593027,
         43.0,
         5.0,
         "NH3",
         "Andhra_Pradesh",
         "Gulzarpet, Anantapur - APPCB"
        ],
        [
         101.0,
         "Delhi",
         "India",
         "2025-05-10T16:00:00.000+0000",
         28.5710274,
         77.0719006,
         153.0,
         10.0,
         "OZONE",
         "Delhi",
         "Dwarka-Sector 8, Delhi - DPCC "
        ],
        [
         64.0,
         "Naharlagun",
         "India",
         "2025-05-10T16:00:00.000+0000",
         27.103358,
         93.679645,
         134.0,
         32.0,
         "PM2.5",
         "Arunachal_Pradesh",
         "Naharlagun, Naharlagun - APSPCB"
        ],
        [
         40.0,
         "Anantapur",
         "India",
         "2025-05-10T16:00:00.000+0000",
         14.675886,
         77.593027,
         121.0,
         23.0,
         "NO2",
         "Andhra_Pradesh",
         "Gulzarpet, Anantapur - APPCB"
        ],
        [
         146.0,
         "Delhi",
         "India",
         "2025-05-10T16:00:00.000+0000",
         28.5627763,
         77.1180053,
         319.0,
         7.0,
         "PM2.5",
         "Delhi",
         "IGI Airport (T3), Delhi - IMD"
        ],
        [
         10.0,
         "Rajamahendravaram",
         "India",
         "2025-05-10T16:00:00.000+0000",
         16.9872867,
         81.7363176,
         11.0,
         9.0,
         "SO2",
         "Andhra_Pradesh",
         "Anand Kala Kshetram, Rajamahendravaram - APPCB"
        ],
        [
         54.0,
         "Amaravati",
         "India",
         "2025-05-10T16:00:00.000+0000",
         16.5150833,
         80.5181667,
         73.0,
         17.0,
         "OZONE",
         "Andhra_Pradesh",
         "Secretariat, Amaravati - APPCB"
        ],
        [
         61.0,
         "Delhi",
         "India",
         "2025-05-10T16:00:00.000+0000",
         28.498571,
         77.26484,
         88.0,
         26.0,
         "CO",
         "Delhi",
         "Dr. Karni Singh Shooting Range, Delhi - DPCC"
        ],
        [
         11.0,
         "Byrnihat",
         "India",
         "2025-05-10T16:00:00.000+0000",
         26.071318,
         91.87488,
         21.0,
         5.0,
         "NO2",
         "Assam",
         "Central Academy for SFS, Byrnihat - PCBA"
        ],
        [
         74.0,
         "Anantapur",
         "India",
         "2025-05-10T16:00:00.000+0000",
         14.675886,
         77.593027,
         92.0,
         59.0,
         "PM2.5",
         "Andhra_Pradesh",
         "Gulzarpet, Anantapur - APPCB"
        ],
        [
         31.0,
         "Patna",
         "India",
         "2025-05-10T16:00:00.000+0000",
         25.586562,
         85.043586,
         34.0,
         28.0,
         "NO2",
         "Bihar",
         "DRM Office Danapur, Patna - BSPCB"
        ],
        [
         8.0,
         "Patna",
         "India",
         "2025-05-10T16:00:00.000+0000",
         25.610369,
         85.132568,
         28.0,
         1.0,
         "SO2",
         "Bihar",
         "IGSC Planetarium Complex, Patna - BSPCB"
        ],
        [
         31.0,
         "Bilaspur",
         "India",
         "2025-05-10T16:00:00.000+0000",
         22.08815,
         82.13737,
         40.0,
         26.0,
         "CO",
         "Chhattisgarh",
         "Mangala, Bilaspur - NTPC"
        ],
        [
         9.0,
         "Muzaffarpur",
         "India",
         "2025-05-10T16:00:00.000+0000",
         26.1209,
         85.3647,
         13.0,
         6.0,
         "NO2",
         "Bihar",
         "Muzaffarpur Collectorate, Muzaffarpur - BSPCB"
        ],
        [
         57.0,
         "Chandigarh",
         "India",
         "2025-05-10T16:00:00.000+0000",
         30.751462,
         76.762879,
         78.0,
         38.0,
         "PM10",
         "Chandigarh",
         "Sector-25, Chandigarh - CPCC"
        ],
        [
         186.0,
         "Delhi",
         "India",
         "2025-05-10T16:00:00.000+0000",
         28.7256504,
         77.2011573,
         335.0,
         50.0,
         "PM2.5",
         "Delhi",
         "Burari Crossing, Delhi - IMD"
        ],
        [
         38.0,
         "Patna",
         "India",
         "2025-05-10T16:00:00.000+0000",
         25.586562,
         85.043586,
         116.0,
         20.0,
         "CO",
         "Bihar",
         "DRM Office Danapur, Patna - BSPCB"
        ],
        [
         74.0,
         "Delhi",
         "India",
         "2025-05-10T16:00:00.000+0000",
         28.5512005,
         77.2735737,
         221.0,
         10.0,
         "NO2",
         "Delhi",
         "CRRI Mathura Road, Delhi - IMD"
        ],
        [
         3.0,
         "Patna",
         "India",
         "2025-05-10T16:00:00.000+0000",
         25.586562,
         85.043586,
         3.0,
         2.0,
         "NH3",
         "Bihar",
         "DRM Office Danapur, Patna - BSPCB"
        ],
        [
         33.0,
         "Delhi",
         "India",
         "2025-05-10T16:00:00.000+0000",
         28.7762,
         77.051074,
         68.0,
         11.0,
         "NO2",
         "Delhi",
         "Bawana, Delhi - DPCC"
        ],
        [
         84.0,
         "Delhi",
         "India",
         "2025-05-10T16:00:00.000+0000",
         28.656756,
         77.227234,
         108.0,
         73.0,
         "CO",
         "Delhi",
         "Chandni Chowk, Delhi - IITM"
        ],
        [
         8.0,
         "Patna",
         "India",
         "2025-05-10T16:00:00.000+0000",
         25.586562,
         85.043586,
         11.0,
         6.0,
         "SO2",
         "Bihar",
         "DRM Office Danapur, Patna - BSPCB"
        ],
        [
         29.0,
         "Chandigarh",
         "India",
         "2025-05-10T16:00:00.000+0000",
         30.751462,
         76.762879,
         54.0,
         17.0,
         "NO2",
         "Chandigarh",
         "Sector-25, Chandigarh - CPCC"
        ],
        [
         23.0,
         "Chandigarh",
         "India",
         "2025-05-10T16:00:00.000+0000",
         30.735567,
         76.775714,
         46.0,
         10.0,
         "NO2",
         "Chandigarh",
         "Sector 22, Chandigarh - CPCC"
        ],
        [
         1.0,
         "Siwan",
         "India",
         "2025-05-10T16:00:00.000+0000",
         26.2271665,
         84.3570427,
         3.0,
         1.0,
         "NH3",
         "Bihar",
         "Chitragupta Nagar, Siwan - BSPCB"
        ],
        [
         7.0,
         "Gaya",
         "India",
         "2025-05-10T16:00:00.000+0000",
         24.7955,
         84.9994,
         14.0,
         4.0,
         "NO2",
         "Bihar",
         "Collectorate, Gaya - BSPCB"
        ],
        [
         84.0,
         "Bettiah",
         "India",
         "2025-05-10T16:00:00.000+0000",
         26.80365,
         84.51954,
         105.0,
         27.0,
         "CO",
         "Bihar",
         "Kamalnath Nagar, Bettiah - BSPCB"
        ],
        [
         114.0,
         "Chhapra",
         "India",
         "2025-05-10T16:00:00.000+0000",
         25.7808257,
         84.7446768,
         117.0,
         110.0,
         "NO2",
         "Bihar",
         "Darshan Nagar, Chhapra - BSPCB"
        ],
        [
         73.0,
         "Gaya",
         "India",
         "2025-05-10T16:00:00.000+0000",
         24.792403,
         84.992416,
         103.0,
         48.0,
         "PM2.5",
         "Bihar",
         "Kareemganj, Gaya - BSPCB"
        ],
        [
         89.0,
         "Aurangabad",
         "India",
         "2025-05-10T16:00:00.000+0000",
         24.75746,
         84.366208,
         200.0,
         27.0,
         "PM2.5",
         "Bihar",
         "Gurdeo Nagar, Aurangabad - BSPCB"
        ],
        [
         46.0,
         "Begusarai",
         "India",
         "2025-05-10T16:00:00.000+0000",
         25.42742023,
         86.13886079,
         58.0,
         17.0,
         "SO2",
         "Bihar",
         "Lohiyanagar, Begusarai - BSPCB"
        ],
        [
         6.0,
         "Bhagalpur",
         "India",
         "2025-05-10T16:00:00.000+0000",
         25.265194,
         87.012947,
         6.0,
         6.0,
         "NH3",
         "Bihar",
         "Mayaganj, Bhagalpur - BSPCB"
        ],
        [
         119.0,
         "Gaya",
         "India",
         "2025-05-10T16:00:00.000+0000",
         24.792403,
         84.992416,
         189.0,
         77.0,
         "PM10",
         "Bihar",
         "Kareemganj, Gaya - BSPCB"
        ],
        [
         8.0,
         "Kishanganj",
         "India",
         "2025-05-10T16:00:00.000+0000",
         26.0881305,
         87.93840336,
         11.0,
         5.0,
         "SO2",
         "Bihar",
         "SDM Office_Khagra, Kishanganj - BSPCB"
        ],
        [
         55.0,
         "Chhapra",
         "India",
         "2025-05-10T16:00:00.000+0000",
         25.7808257,
         84.7446768,
         77.0,
         35.0,
         "PM10",
         "Bihar",
         "Darshan Nagar, Chhapra - BSPCB"
        ],
        [
         8.0,
         "Begusarai",
         "India",
         "2025-05-10T16:00:00.000+0000",
         25.42742023,
         86.13886079,
         9.0,
         1.0,
         "OZONE",
         "Bihar",
         "Lohiyanagar, Begusarai - BSPCB"
        ],
        [
         3.0,
         "Nalbari",
         "India",
         "2025-05-10T16:00:00.000+0000",
         26.446912,
         91.439057,
         5.0,
         2.0,
         "NO2",
         "Assam",
         "Bata Chowk, Nalbari - PCBA"
        ],
        [
         92.0,
         "Guwahati",
         "India",
         "2025-05-10T16:00:00.000+0000",
         26.181742,
         91.78063,
         125.0,
         69.0,
         "PM10",
         "Assam",
         "Railway Colony, Guwahati - PCBA"
        ],
        [
         82.0,
         "Vijayawada",
         "India",
         "2025-05-10T16:00:00.000+0000",
         16.554731,
         80.64911,
         151.0,
         43.0,
         "PM2.5",
         "Andhra_Pradesh",
         "Rajiv Nagar, Vijayawada - APPCB"
        ],
        [
         13.0,
         "Vijayawada",
         "India",
         "2025-05-10T16:00:00.000+0000",
         16.486692,
         80.699436,
         17.0,
         11.0,
         "SO2",
         "Andhra_Pradesh",
         "Kanuru, Vijayawada - APPCB"
        ],
        [
         6.0,
         "Visakhapatnam",
         "India",
         "2025-05-10T16:00:00.000+0000",
         17.72,
         83.3,
         27.0,
         3.0,
         "NH3",
         "Andhra_Pradesh",
         "GVM Corporation, Visakhapatnam - APPCB"
        ],
        [
         27.0,
         "Nalbari",
         "India",
         "2025-05-10T16:00:00.000+0000",
         26.446912,
         91.439057,
         37.0,
         13.0,
         "CO",
         "Assam",
         "Bata Chowk, Nalbari - PCBA"
        ],
        [
         103.0,
         "Guwahati",
         "India",
         "2025-05-10T16:00:00.000+0000",
         26.10887,
         91.589544,
         381.0,
         39.0,
         "PM10",
         "Assam",
         "LGBI Airport, Guwahati - PCBA"
        ],
        [
         60.0,
         "Visakhapatnam",
         "India",
         "2025-05-10T16:00:00.000+0000",
         17.72,
         83.3,
         85.0,
         46.0,
         "PM2.5",
         "Andhra_Pradesh",
         "GVM Corporation, Visakhapatnam - APPCB"
        ],
        [
         62.0,
         "Tirupati",
         "India",
         "2025-05-10T16:00:00.000+0000",
         13.615387,
         79.40923,
         109.0,
         43.0,
         "PM10",
         "Andhra_Pradesh",
         "Vaikuntapuram, Tirupati - APPCB"
        ],
        [
         41.0,
         "Vijayawada",
         "India",
         "2025-05-10T16:00:00.000+0000",
         16.509717,
         80.612222,
         49.0,
         31.0,
         "NO2",
         "Andhra_Pradesh",
         "Rajiv Gandhi Park, Vijayawada - APPCB"
        ],
        [
         47.0,
         "Nagaon",
         "India",
         "2025-05-10T16:00:00.000+0000",
         26.349082,
         92.68449,
         50.0,
         26.0,
         "CO",
         "Assam",
         "Christianpatty, Nagaon - PCBA"
        ],
        [
         58.0,
         "Vijayawada",
         "India",
         "2025-05-10T16:00:00.000+0000",
         16.536107,
         80.594233,
         63.0,
         52.0,
         "PM10",
         "Andhra_Pradesh",
         "HB Colony, Vijayawada - APPCB"
        ],
        [
         8.0,
         "Patna",
         "India",
         "2025-05-10T16:00:00.000+0000",
         25.599486,
         85.113666,
         9.0,
         3.0,
         "SO2",
         "Bihar",
         "Rajbansi Nagar, Patna - BSPCB"
        ],
        [
         4.0,
         "Delhi",
         "India",
         "2025-05-10T16:00:00.000+0000",
         28.6811736,
         77.3025234,
         5.0,
         1.0,
         "NH3",
         "Delhi",
         "IHBAS, Dilshad Garden, Delhi - CPCB"
        ],
        [
         152.0,
         "Delhi",
         "India",
         "2025-05-10T16:00:00.000+0000",
         28.628624,
         77.24106,
         345.0,
         53.0,
         "PM2.5",
         "Delhi",
         "ITO, Delhi - CPCB"
        ],
        [
         34.0,
         "Rajgir",
         "India",
         "2025-05-10T16:00:00.000+0000",
         25.0328,
         85.41948,
         38.0,
         29.0,
         "OZONE",
         "Bihar",
         "Dangi Tola, Rajgir - BSPCB"
        ],
        [
         3.0,
         "Patna",
         "India",
         "2025-05-10T16:00:00.000+0000",
         25.599486,
         85.113666,
         8.0,
         1.0,
         "NH3",
         "Bihar",
         "Rajbansi Nagar, Patna - BSPCB"
        ],
        [
         35.0,
         "Raipur",
         "India",
         "2025-05-10T16:00:00.000+0000",
         21.258815,
         81.578979,
         55.0,
         22.0,
         "NO2",
         "Chhattisgarh",
         "AIIMS, Raipur - CECB"
        ],
        [
         3.0,
         "Patna",
         "India",
         "2025-05-10T16:00:00.000+0000",
         25.596727,
         85.085624,
         5.0,
         2.0,
         "SO2",
         "Bihar",
         "Samanpura, Patna - BSPCB"
        ],
        [
         49.0,
         "Saharsa",
         "India",
         "2025-05-10T16:00:00.000+0000",
         25.892357,
         86.590325,
         103.0,
         12.0,
         "PM2.5",
         "Bihar",
         "Police Line, Saharsa - BSPCB"
        ],
        [
         179.0,
         "Delhi",
         "India",
         "2025-05-10T16:00:00.000+0000",
         28.6811736,
         77.3025234,
         369.0,
         60.0,
         "PM2.5",
         "Delhi",
         "IHBAS, Dilshad Garden, Delhi - CPCB"
        ],
        [
         26.0,
         "Rajgir",
         "India",
         "2025-05-10T16:00:00.000+0000",
         25.0328,
         85.41948,
         27.0,
         26.0,
         "CO",
         "Bihar",
         "Dangi Tola, Rajgir - BSPCB"
        ],
        [
         61.0,
         "Kishanganj",
         "India",
         "2025-05-10T16:00:00.000+0000",
         26.0881305,
         87.93840336,
         82.0,
         41.0,
         "PM10",
         "Bihar",
         "SDM Office_Khagra, Kishanganj - BSPCB"
        ],
        [
         49.0,
         "Araria",
         "India",
         "2025-05-10T16:00:00.000+0000",
         26.146529,
         87.454184,
         58.0,
         29.0,
         "CO",
         "Bihar",
         "Kharahiya Basti, Araria - BSPCB"
        ],
        [
         46.0,
         "Katihar",
         "India",
         "2025-05-10T16:00:00.000+0000",
         25.560083,
         87.553265,
         79.0,
         23.0,
         "PM10",
         "Bihar",
         "Mirchaibari, Katihar - BSPCB"
        ],
        [
         99.0,
         "Hajipur",
         "India",
         "2025-05-10T16:00:00.000+0000",
         25.697189,
         85.2459,
         114.0,
         72.0,
         "PM10",
         "Bihar",
         "Industrial Area, Hajipur - BSPCB"
        ],
        [
         28.0,
         "Hajipur",
         "India",
         "2025-05-10T16:00:00.000+0000",
         25.697189,
         85.2459,
         40.0,
         20.0,
         "NO2",
         "Bihar",
         "Industrial Area, Hajipur - BSPCB"
        ],
        [
         1.0,
         "Arrah",
         "India",
         "2025-05-10T16:00:00.000+0000",
         25.5626095,
         84.663264,
         1.0,
         1.0,
         "NH3",
         "Bihar",
         "New DM Office, Arrah - BSPCB"
        ],
        [
         25.0,
         "Arrah",
         "India",
         "2025-05-10T16:00:00.000+0000",
         25.5626095,
         84.663264,
         38.0,
         9.0,
         "CO",
         "Bihar",
         "New DM Office, Arrah - BSPCB"
        ],
        [
         7.0,
         "Arrah",
         "India",
         "2025-05-10T16:00:00.000+0000",
         25.5626095,
         84.663264,
         9.0,
         4.0,
         "NO2",
         "Bihar",
         "New DM Office, Arrah - BSPCB"
        ],
        [
         3.0,
         "Kishanganj",
         "India",
         "2025-05-10T16:00:00.000+0000",
         26.0881305,
         87.93840336,
         3.0,
         2.0,
         "NH3",
         "Bihar",
         "SDM Office_Khagra, Kishanganj - BSPCB"
        ],
        [
         45.0,
         "Sivasagar",
         "India",
         "2025-05-10T16:00:00.000+0000",
         26.987634,
         94.636574,
         75.0,
         27.0,
         "PM2.5",
         "Assam",
         "Girls College, Sivasagar - PCBA"
        ],
        [
         26.0,
         "Katihar",
         "India",
         "2025-05-10T16:00:00.000+0000",
         25.560083,
         87.553265,
         70.0,
         4.0,
         "CO",
         "Bihar",
         "Mirchaibari, Katihar - BSPCB"
        ],
        [
         17.0,
         "Raipur",
         "India",
         "2025-05-10T16:00:00.000+0000",
         21.371751,
         81.664929,
         39.0,
         5.0,
         "SO2",
         "Chhattisgarh",
         "Siltara Phase-II, Raipur - CECB"
        ],
        [
         187.0,
         "Delhi",
         "India",
         "2025-05-10T16:00:00.000+0000",
         28.695381,
         77.181665,
         358.0,
         38.0,
         "PM2.5",
         "Delhi",
         "Ashok Vihar, Delhi - DPCC"
        ],
        [
         3.0,
         "Raipur",
         "India",
         "2025-05-10T16:00:00.000+0000",
         21.371751,
         81.664929,
         3.0,
         3.0,
         "NH3",
         "Chhattisgarh",
         "Siltara Phase-II, Raipur - CECB"
        ],
        [
         9.0,
         "Raipur",
         "India",
         "2025-05-10T16:00:00.000+0000",
         21.258815,
         81.578979,
         16.0,
         7.0,
         "SO2",
         "Chhattisgarh",
         "AIIMS, Raipur - CECB"
        ],
        [
         7.0,
         "Raipur",
         "India",
         "2025-05-10T16:00:00.000+0000",
         21.258815,
         81.578979,
         7.0,
         7.0,
         "NH3",
         "Chhattisgarh",
         "AIIMS, Raipur - CECB"
        ],
        [
         27.0,
         "Raipur",
         "India",
         "2025-05-10T16:00:00.000+0000",
         21.258815,
         81.578979,
         28.0,
         20.0,
         "CO",
         "Chhattisgarh",
         "AIIMS, Raipur - CECB"
        ],
        [
         60.0,
         "Delhi",
         "India",
         "2025-05-10T16:00:00.000+0000",
         28.695381,
         77.181665,
         122.0,
         16.0,
         "NO2",
         "Delhi",
         "Ashok Vihar, Delhi - DPCC"
        ],
        [
         58.0,
         "Delhi",
         "India",
         "2025-05-10T16:00:00.000+0000",
         28.815329,
         77.15301,
         86.0,
         21.0,
         "CO",
         "Delhi",
         "Alipur, Delhi - DPCC"
        ],
        [
         69.0,
         "Tumidih",
         "India",
         "2025-05-10T16:00:00.000+0000",
         22.06631475,
         83.33820077,
         98.0,
         3.0,
         "OZONE",
         "Chhattisgarh",
         "OP Jindal Industrial Park, Tumidih - CECB"
        ],
        [
         28.0,
         "Delhi",
         "India",
         "2025-05-10T16:00:00.000+0000",
         28.815329,
         77.15301,
         95.0,
         7.0,
         "SO2",
         "Delhi",
         "Alipur, Delhi - DPCC"
        ],
        [
         24.0,
         "Delhi",
         "India",
         "2025-05-10T16:00:00.000+0000",
         28.695381,
         77.181665,
         50.0,
         11.0,
         "SO2",
         "Delhi",
         "Ashok Vihar, Delhi - DPCC"
        ],
        [
         18.0,
         "Silchar",
         "India",
         "2025-05-10T16:00:00.000+0000",
         24.82827,
         92.79525,
         41.0,
         1.0,
         "OZONE",
         "Assam",
         "Tarapur, Silchar - PCBA"
        ],
        [
         3.0,
         "Muzaffarpur",
         "India",
         "2025-05-10T16:00:00.000+0000",
         26.11442,
         85.39813,
         4.0,
         2.0,
         "NH3",
         "Bihar",
         "Buddha Colony, Muzaffarpur - BSPCB"
        ],
        [
         48.0,
         "Silchar",
         "India",
         "2025-05-10T16:00:00.000+0000",
         24.82827,
         92.79525,
         71.0,
         32.0,
         "PM2.5",
         "Assam",
         "Tarapur, Silchar - PCBA"
        ],
        [
         1.0,
         "Manguraha",
         "India",
         "2025-05-10T16:00:00.000+0000",
         27.308328,
         84.531742,
         1.0,
         1.0,
         "NH3",
         "Bihar",
         "Forest Rest House, Manguraha - BSPCB"
        ],
        [
         42.0,
         "Muzaffarpur",
         "India",
         "2025-05-10T16:00:00.000+0000",
         26.1403345,
         85.3650192,
         63.0,
         30.0,
         "PM2.5",
         "Bihar",
         "MIT-Daudpur Kothi, Muzaffarpur - BSPCB"
        ],
        [
         7.0,
         "Muzaffarpur",
         "India",
         "2025-05-10T16:00:00.000+0000",
         26.1403345,
         85.3650192,
         9.0,
         4.0,
         "SO2",
         "Bihar",
         "MIT-Daudpur Kothi, Muzaffarpur - BSPCB"
        ],
        [
         3.0,
         "Motihari",
         "India",
         "2025-05-10T16:00:00.000+0000",
         26.63086,
         84.90051,
         3.0,
         3.0,
         "NH3",
         "Bihar",
         "Gandak Colony, Motihari - BSPCB"
        ],
        [
         24.0,
         "Munger",
         "India",
         "2025-05-10T16:00:00.000+0000",
         25.376776,
         86.471523,
         29.0,
         19.0,
         "CO",
         "Bihar",
         "Town Hall, Munger - BSPCB"
        ],
        [
         12.0,
         "Silchar",
         "India",
         "2025-05-10T16:00:00.000+0000",
         24.82827,
         92.79525,
         20.0,
         6.0,
         "NO2",
         "Assam",
         "Tarapur, Silchar - PCBA"
        ],
        [
         6.0,
         "Manguraha",
         "India",
         "2025-05-10T16:00:00.000+0000",
         27.308328,
         84.531742,
         7.0,
         5.0,
         "SO2",
         "Bihar",
         "Forest Rest House, Manguraha - BSPCB"
        ],
        [
         13.0,
         "Muzaffarpur",
         "India",
         "2025-05-10T16:00:00.000+0000",
         26.1403345,
         85.3650192,
         15.0,
         11.0,
         "NO2",
         "Bihar",
         "MIT-Daudpur Kothi, Muzaffarpur - BSPCB"
        ]
       ],
       "datasetInfos": [],
       "dbfsResultPath": null,
       "isJsonSchema": true,
       "metadata": {},
       "overflow": false,
       "plotOptions": {
        "customPlotOptions": {},
        "displayType": "table",
        "pivotAggregation": null,
        "pivotColumns": null,
        "xColumns": null,
        "yColumns": null
       },
       "removedWidgets": [],
       "schema": [
        {
         "metadata": "{}",
         "name": "avg_value",
         "type": "\"double\""
        },
        {
         "metadata": "{}",
         "name": "city",
         "type": "\"string\""
        },
        {
         "metadata": "{}",
         "name": "country",
         "type": "\"string\""
        },
        {
         "metadata": "{}",
         "name": "last_update",
         "type": "\"timestamp\""
        },
        {
         "metadata": "{}",
         "name": "latitude",
         "type": "\"double\""
        },
        {
         "metadata": "{}",
         "name": "longitude",
         "type": "\"double\""
        },
        {
         "metadata": "{}",
         "name": "max_value",
         "type": "\"double\""
        },
        {
         "metadata": "{}",
         "name": "min_value",
         "type": "\"double\""
        },
        {
         "metadata": "{}",
         "name": "pollutant_id",
         "type": "\"string\""
        },
        {
         "metadata": "{}",
         "name": "state",
         "type": "\"string\""
        },
        {
         "metadata": "{}",
         "name": "station",
         "type": "\"string\""
        }
       ],
       "type": "table"
      }
     },
     "output_type": "display_data"
    }
   ],
   "source": [
    "display(df_fixedDuplicates)"
   ]
  },
  {
   "cell_type": "code",
   "execution_count": 0,
   "metadata": {
    "application/vnd.databricks.v1+cell": {
     "cellMetadata": {
      "byteLimit": 2048000,
      "rowLimit": 10000
     },
     "inputWidgets": {},
     "nuid": "f819b6ac-d8f0-4c26-8390-dbfb8acc2721",
     "showTitle": false,
     "tableResultSettingsMap": {},
     "title": ""
    }
   },
   "outputs": [],
   "source": [
    "# df_fixedDuplicates.write.format(\"delta\").save(\"dbfs:/FileStore/tables/AQI_raw_delta(transformed)\")\n",
    "\n",
    "df_justForCount = spark.read.format(\"delta\").load(\"dbfs:/FileStore/tables/AQI_raw_delta(transformed)\")\n",
    "count_before_Adding_new_data = df_justForCount.count();"
   ]
  },
  {
   "cell_type": "code",
   "execution_count": 0,
   "metadata": {
    "application/vnd.databricks.v1+cell": {
     "cellMetadata": {
      "byteLimit": 2048000,
      "rowLimit": 10000
     },
     "inputWidgets": {},
     "nuid": "31907aa4-0c13-4564-b667-ba0cd31ca00b",
     "showTitle": false,
     "tableResultSettingsMap": {},
     "title": ""
    }
   },
   "outputs": [],
   "source": [
    "from delta.tables import DeltaTable\n",
    "\n",
    "old_table = DeltaTable.forPath(spark, \"dbfs:/FileStore/tables/AQI_raw_delta(transformed)\")\n",
    "\n",
    "# Merge new data into existing Delta table (upsert)\n",
    "old_table.alias(\"old\").merge(df_fixedDuplicates.alias(\"new\"), \n",
    "    \"old.last_update = new.last_update AND old.station = new.station AND old.pollutant_id = new.pollutant_id\"\n",
    ").whenMatchedUpdateAll().whenNotMatchedInsertAll().execute()"
   ]
  },
  {
   "cell_type": "code",
   "execution_count": 0,
   "metadata": {
    "application/vnd.databricks.v1+cell": {
     "cellMetadata": {
      "byteLimit": 2048000,
      "rowLimit": 10000
     },
     "inputWidgets": {},
     "nuid": "98aedec9-e816-4379-abde-9463596041ad",
     "showTitle": false,
     "tableResultSettingsMap": {},
     "title": ""
    }
   },
   "outputs": [],
   "source": [
    "df_check = spark.read.format(\"delta\").load(\"dbfs:/FileStore/tables/AQI_raw_delta(transformed)\")"
   ]
  },
  {
   "cell_type": "code",
   "execution_count": 0,
   "metadata": {
    "application/vnd.databricks.v1+cell": {
     "cellMetadata": {
      "byteLimit": 2048000,
      "rowLimit": 10000
     },
     "inputWidgets": {},
     "nuid": "9e56ae2b-d5b8-40fe-af0d-3a994b20fc04",
     "showTitle": false,
     "tableResultSettingsMap": {},
     "title": ""
    }
   },
   "outputs": [
    {
     "output_type": "stream",
     "name": "stdout",
     "output_type": "stream",
     "text": [
      "793\ntotal 93 records are added(new), rest are updated\n"
     ]
    }
   ],
   "source": [
    "# df_old = old_table.toDF()\n",
    "print(df_check.count())\n",
    "\n",
    "print(f\"total {df_check.count() - count_before_Adding_new_data} records are added(new), rest are updated\")"
   ]
  }
 ],
 "metadata": {
  "application/vnd.databricks.v1+notebook": {
   "computePreferences": null,
   "dashboards": [],
   "environmentMetadata": {
    "base_environment": "",
    "environment_version": "1"
   },
   "inputWidgetPreferences": null,
   "language": "python",
   "notebookMetadata": {
    "pythonIndentUnit": 4
   },
   "notebookName": "AQI Data Ingestion ETL",
   "widgets": {}
  }
 },
 "nbformat": 4,
 "nbformat_minor": 0
}